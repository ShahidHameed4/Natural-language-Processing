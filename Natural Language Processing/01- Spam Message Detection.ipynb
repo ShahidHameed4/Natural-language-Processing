{
 "cells": [
  {
   "cell_type": "markdown",
   "metadata": {},
   "source": [
    "___\n",
    "\n",
    "<a href='http://www.pieriandata.com'> <img src='../Pierian_Data_Logo.png' /></a>\n",
    "___\n",
    "# NLP (Natural Language Processing) with Python\n",
    "\n",
    "This is the notebook that goes along with the NLP video lecture!\n",
    "\n",
    "In this lecture we will discuss a higher level overview of the basics of Natural Language Processing, which basically consists of combining machine learning techniques with text, and using math and statistics to get that text in a format that the machine learning algorithms can understand!\n",
    "\n",
    "Once you've completed this lecture you'll have a project using some Yelp Text Data!\n",
    "    \n",
    "**Requirements: You will need to have NLTK installed, along with downloading the corpus for stopwords. To download everything with a conda installation, run the cell below. Or reference the full video lecture**"
   ]
  },
  {
   "cell_type": "code",
   "execution_count": 1,
   "metadata": {},
   "outputs": [],
   "source": [
    "# ONLY RUN THIS CELL IF YOU NEED \n",
    "# TO DOWNLOAD NLTK AND HAVE CONDA\n",
    "# WATCH THE VIDEO FOR FULL INSTRUCTIONS ON THIS STEP\n",
    "\n",
    "# Uncomment the code below and run:\n",
    "\n",
    "\n",
    "# !conda install nltk #This installs nltk\n",
    "# import nltk # Imports the library\n",
    "# nltk.download() #Download the necessary datasets"
   ]
  },
  {
   "cell_type": "code",
   "execution_count": 82,
   "metadata": {},
   "outputs": [],
   "source": [
    "import nltk\n"
   ]
  },
  {
   "cell_type": "code",
   "execution_count": 83,
   "metadata": {},
   "outputs": [
    {
     "name": "stdout",
     "output_type": "stream",
     "text": [
      "NLTK Downloader\n",
      "---------------------------------------------------------------------------\n",
      "    d) Download   l) List    u) Update   c) Config   h) Help   q) Quit\n",
      "---------------------------------------------------------------------------\n",
      "Downloader> q\n"
     ]
    }
   ],
   "source": [
    "nltk.download_shell()\n"
   ]
  },
  {
   "cell_type": "code",
   "execution_count": 84,
   "metadata": {},
   "outputs": [],
   "source": [
    "messages =[line.rstrip() for line in open('smsspamcollection/SMSSpamCollection') ]"
   ]
  },
  {
   "cell_type": "code",
   "execution_count": 85,
   "metadata": {},
   "outputs": [
    {
     "data": {
      "text/plain": [
       "'ham\\tGo until jurong point, crazy.. Available only in bugis n great world la e buffet... Cine there got amore wat...'"
      ]
     },
     "execution_count": 85,
     "metadata": {},
     "output_type": "execute_result"
    }
   ],
   "source": [
    "messages[0]"
   ]
  },
  {
   "cell_type": "code",
   "execution_count": 86,
   "metadata": {},
   "outputs": [],
   "source": [
    "import pandas as pd"
   ]
  },
  {
   "cell_type": "code",
   "execution_count": 87,
   "metadata": {},
   "outputs": [],
   "source": [
    "df= pd.read_csv('smsspamcollection/SMSSpamCollection',sep='\\t',names=['labels','Message'])"
   ]
  },
  {
   "cell_type": "code",
   "execution_count": 88,
   "metadata": {},
   "outputs": [
    {
     "data": {
      "text/html": [
       "<div>\n",
       "<style scoped>\n",
       "    .dataframe tbody tr th:only-of-type {\n",
       "        vertical-align: middle;\n",
       "    }\n",
       "\n",
       "    .dataframe tbody tr th {\n",
       "        vertical-align: top;\n",
       "    }\n",
       "\n",
       "    .dataframe thead th {\n",
       "        text-align: right;\n",
       "    }\n",
       "</style>\n",
       "<table border=\"1\" class=\"dataframe\">\n",
       "  <thead>\n",
       "    <tr style=\"text-align: right;\">\n",
       "      <th></th>\n",
       "      <th>labels</th>\n",
       "      <th>Message</th>\n",
       "    </tr>\n",
       "  </thead>\n",
       "  <tbody>\n",
       "    <tr>\n",
       "      <th>0</th>\n",
       "      <td>ham</td>\n",
       "      <td>Go until jurong point, crazy.. Available only ...</td>\n",
       "    </tr>\n",
       "    <tr>\n",
       "      <th>1</th>\n",
       "      <td>ham</td>\n",
       "      <td>Ok lar... Joking wif u oni...</td>\n",
       "    </tr>\n",
       "    <tr>\n",
       "      <th>2</th>\n",
       "      <td>spam</td>\n",
       "      <td>Free entry in 2 a wkly comp to win FA Cup fina...</td>\n",
       "    </tr>\n",
       "    <tr>\n",
       "      <th>3</th>\n",
       "      <td>ham</td>\n",
       "      <td>U dun say so early hor... U c already then say...</td>\n",
       "    </tr>\n",
       "    <tr>\n",
       "      <th>4</th>\n",
       "      <td>ham</td>\n",
       "      <td>Nah I don't think he goes to usf, he lives aro...</td>\n",
       "    </tr>\n",
       "    <tr>\n",
       "      <th>...</th>\n",
       "      <td>...</td>\n",
       "      <td>...</td>\n",
       "    </tr>\n",
       "    <tr>\n",
       "      <th>5567</th>\n",
       "      <td>spam</td>\n",
       "      <td>This is the 2nd time we have tried 2 contact u...</td>\n",
       "    </tr>\n",
       "    <tr>\n",
       "      <th>5568</th>\n",
       "      <td>ham</td>\n",
       "      <td>Will ü b going to esplanade fr home?</td>\n",
       "    </tr>\n",
       "    <tr>\n",
       "      <th>5569</th>\n",
       "      <td>ham</td>\n",
       "      <td>Pity, * was in mood for that. So...any other s...</td>\n",
       "    </tr>\n",
       "    <tr>\n",
       "      <th>5570</th>\n",
       "      <td>ham</td>\n",
       "      <td>The guy did some bitching but I acted like i'd...</td>\n",
       "    </tr>\n",
       "    <tr>\n",
       "      <th>5571</th>\n",
       "      <td>ham</td>\n",
       "      <td>Rofl. Its true to its name</td>\n",
       "    </tr>\n",
       "  </tbody>\n",
       "</table>\n",
       "<p>5572 rows × 2 columns</p>\n",
       "</div>"
      ],
      "text/plain": [
       "     labels                                            Message\n",
       "0       ham  Go until jurong point, crazy.. Available only ...\n",
       "1       ham                      Ok lar... Joking wif u oni...\n",
       "2      spam  Free entry in 2 a wkly comp to win FA Cup fina...\n",
       "3       ham  U dun say so early hor... U c already then say...\n",
       "4       ham  Nah I don't think he goes to usf, he lives aro...\n",
       "...     ...                                                ...\n",
       "5567   spam  This is the 2nd time we have tried 2 contact u...\n",
       "5568    ham               Will ü b going to esplanade fr home?\n",
       "5569    ham  Pity, * was in mood for that. So...any other s...\n",
       "5570    ham  The guy did some bitching but I acted like i'd...\n",
       "5571    ham                         Rofl. Its true to its name\n",
       "\n",
       "[5572 rows x 2 columns]"
      ]
     },
     "execution_count": 88,
     "metadata": {},
     "output_type": "execute_result"
    }
   ],
   "source": [
    "df\n"
   ]
  },
  {
   "cell_type": "code",
   "execution_count": 89,
   "metadata": {},
   "outputs": [
    {
     "data": {
      "text/html": [
       "<div>\n",
       "<style scoped>\n",
       "    .dataframe tbody tr th:only-of-type {\n",
       "        vertical-align: middle;\n",
       "    }\n",
       "\n",
       "    .dataframe tbody tr th {\n",
       "        vertical-align: top;\n",
       "    }\n",
       "\n",
       "    .dataframe thead th {\n",
       "        text-align: right;\n",
       "    }\n",
       "</style>\n",
       "<table border=\"1\" class=\"dataframe\">\n",
       "  <thead>\n",
       "    <tr style=\"text-align: right;\">\n",
       "      <th></th>\n",
       "      <th>labels</th>\n",
       "      <th>Message</th>\n",
       "    </tr>\n",
       "  </thead>\n",
       "  <tbody>\n",
       "    <tr>\n",
       "      <th>0</th>\n",
       "      <td>ham</td>\n",
       "      <td>Go until jurong point, crazy.. Available only ...</td>\n",
       "    </tr>\n",
       "    <tr>\n",
       "      <th>1</th>\n",
       "      <td>ham</td>\n",
       "      <td>Ok lar... Joking wif u oni...</td>\n",
       "    </tr>\n",
       "    <tr>\n",
       "      <th>2</th>\n",
       "      <td>spam</td>\n",
       "      <td>Free entry in 2 a wkly comp to win FA Cup fina...</td>\n",
       "    </tr>\n",
       "    <tr>\n",
       "      <th>3</th>\n",
       "      <td>ham</td>\n",
       "      <td>U dun say so early hor... U c already then say...</td>\n",
       "    </tr>\n",
       "    <tr>\n",
       "      <th>4</th>\n",
       "      <td>ham</td>\n",
       "      <td>Nah I don't think he goes to usf, he lives aro...</td>\n",
       "    </tr>\n",
       "  </tbody>\n",
       "</table>\n",
       "</div>"
      ],
      "text/plain": [
       "  labels                                            Message\n",
       "0    ham  Go until jurong point, crazy.. Available only ...\n",
       "1    ham                      Ok lar... Joking wif u oni...\n",
       "2   spam  Free entry in 2 a wkly comp to win FA Cup fina...\n",
       "3    ham  U dun say so early hor... U c already then say...\n",
       "4    ham  Nah I don't think he goes to usf, he lives aro..."
      ]
     },
     "execution_count": 89,
     "metadata": {},
     "output_type": "execute_result"
    }
   ],
   "source": [
    "df.head()"
   ]
  },
  {
   "cell_type": "code",
   "execution_count": 95,
   "metadata": {},
   "outputs": [],
   "source": [
    "import seaborn as sns\n",
    "import matplotlib.pyplot as plt\n",
    "%matplotlib inline"
   ]
  },
  {
   "cell_type": "code",
   "execution_count": 96,
   "metadata": {},
   "outputs": [],
   "source": [
    "df['length']=df['Message'].apply(len)"
   ]
  },
  {
   "cell_type": "code",
   "execution_count": 97,
   "metadata": {},
   "outputs": [
    {
     "data": {
      "text/html": [
       "<div>\n",
       "<style scoped>\n",
       "    .dataframe tbody tr th:only-of-type {\n",
       "        vertical-align: middle;\n",
       "    }\n",
       "\n",
       "    .dataframe tbody tr th {\n",
       "        vertical-align: top;\n",
       "    }\n",
       "\n",
       "    .dataframe thead th {\n",
       "        text-align: right;\n",
       "    }\n",
       "</style>\n",
       "<table border=\"1\" class=\"dataframe\">\n",
       "  <thead>\n",
       "    <tr style=\"text-align: right;\">\n",
       "      <th></th>\n",
       "      <th>labels</th>\n",
       "      <th>Message</th>\n",
       "      <th>length</th>\n",
       "    </tr>\n",
       "  </thead>\n",
       "  <tbody>\n",
       "    <tr>\n",
       "      <th>0</th>\n",
       "      <td>ham</td>\n",
       "      <td>Go until jurong point, crazy.. Available only ...</td>\n",
       "      <td>111</td>\n",
       "    </tr>\n",
       "    <tr>\n",
       "      <th>1</th>\n",
       "      <td>ham</td>\n",
       "      <td>Ok lar... Joking wif u oni...</td>\n",
       "      <td>29</td>\n",
       "    </tr>\n",
       "    <tr>\n",
       "      <th>2</th>\n",
       "      <td>spam</td>\n",
       "      <td>Free entry in 2 a wkly comp to win FA Cup fina...</td>\n",
       "      <td>155</td>\n",
       "    </tr>\n",
       "    <tr>\n",
       "      <th>3</th>\n",
       "      <td>ham</td>\n",
       "      <td>U dun say so early hor... U c already then say...</td>\n",
       "      <td>49</td>\n",
       "    </tr>\n",
       "    <tr>\n",
       "      <th>4</th>\n",
       "      <td>ham</td>\n",
       "      <td>Nah I don't think he goes to usf, he lives aro...</td>\n",
       "      <td>61</td>\n",
       "    </tr>\n",
       "  </tbody>\n",
       "</table>\n",
       "</div>"
      ],
      "text/plain": [
       "  labels                                            Message  length\n",
       "0    ham  Go until jurong point, crazy.. Available only ...     111\n",
       "1    ham                      Ok lar... Joking wif u oni...      29\n",
       "2   spam  Free entry in 2 a wkly comp to win FA Cup fina...     155\n",
       "3    ham  U dun say so early hor... U c already then say...      49\n",
       "4    ham  Nah I don't think he goes to usf, he lives aro...      61"
      ]
     },
     "execution_count": 97,
     "metadata": {},
     "output_type": "execute_result"
    }
   ],
   "source": [
    "df.head()"
   ]
  },
  {
   "cell_type": "code",
   "execution_count": 98,
   "metadata": {},
   "outputs": [
    {
     "data": {
      "text/plain": [
       "<AxesSubplot:xlabel='length', ylabel='Count'>"
      ]
     },
     "execution_count": 98,
     "metadata": {},
     "output_type": "execute_result"
    },
    {
     "data": {
      "image/png": "[encoded data removed]",
      "text/plain": [
       "<Figure size 576x432 with 1 Axes>"
      ]
     },
     "metadata": {
      "needs_background": "light"
     },
     "output_type": "display_data"
    }
   ],
   "source": [
    "plt.figure(figsize=(8,6))\n",
    "sns.histplot(x='length',data=df,hue='labels',bins=50)"
   ]
  },
  {
   "cell_type": "code",
   "execution_count": 99,
   "metadata": {},
   "outputs": [
    {
     "data": {
      "text/plain": [
       "<AxesSubplot:xlabel='length', ylabel='Count'>"
      ]
     },
     "execution_count": 99,
     "metadata": {},
     "output_type": "execute_result"
    },
    {
     "data": {
      "image/png": "[encoded data removed]",
      "text/plain": [
       "<Figure size 576x432 with 1 Axes>"
      ]
     },
     "metadata": {
      "needs_background": "light"
     },
     "output_type": "display_data"
    }
   ],
   "source": [
    "plt.figure(figsize=(8,6))\n",
    "sns.histplot(x='length',data=df[df['labels']=='ham'],bins=100)"
   ]
  },
  {
   "cell_type": "code",
   "execution_count": 100,
   "metadata": {},
   "outputs": [
    {
     "data": {
      "text/plain": [
       "<AxesSubplot:xlabel='length', ylabel='Count'>"
      ]
     },
     "execution_count": 100,
     "metadata": {},
     "output_type": "execute_result"
    },
    {
     "data": {
      "image/png": "[encoded data removed]",
      "text/plain": [
       "<Figure size 576x432 with 1 Axes>"
      ]
     },
     "metadata": {
      "needs_background": "light"
     },
     "output_type": "display_data"
    }
   ],
   "source": [
    "plt.figure(figsize=(8,6))\n",
    "sns.histplot(x='length',data=df[df['labels']=='spam'],bins=100)"
   ]
  },
  {
   "cell_type": "code",
   "execution_count": 101,
   "metadata": {},
   "outputs": [
    {
     "data": {
      "text/plain": [
       "count    5572.000000\n",
       "mean       80.489950\n",
       "std        59.942907\n",
       "min         2.000000\n",
       "25%        36.000000\n",
       "50%        62.000000\n",
       "75%       122.000000\n",
       "max       910.000000\n",
       "Name: length, dtype: float64"
      ]
     },
     "execution_count": 101,
     "metadata": {},
     "output_type": "execute_result"
    }
   ],
   "source": [
    "df['length'].describe()"
   ]
  },
  {
   "cell_type": "code",
   "execution_count": 102,
   "metadata": {},
   "outputs": [
    {
     "data": {
      "text/plain": [
       "\"For me the love should start with attraction.i should feel that I need her every time around me.she should be the first thing which comes in my thoughts.I would start the day and end it with her.she should be there every time I dream.love will be then when my every breath has her name.my life should happen around her.my life will be named to her.I would cry for her.will give all my happiness and take all her sorrows.I will be ready to fight with anyone for her.I will be in love when I will be doing the craziest things for her.love will be when I don't have to proove anyone that my girl is the most beautiful lady on the whole planet.I will always be singing praises for her.love will be when I start up making chicken curry and end up makiing sambar.life will be the most beautiful then.will get every morning and thank god for the day because she is with me.I would like to say a lot..will tell later..\""
      ]
     },
     "execution_count": 102,
     "metadata": {},
     "output_type": "execute_result"
    }
   ],
   "source": [
    "df[df['length'] == 910]['Message'].iloc[0]"
   ]
  },
  {
   "cell_type": "code",
   "execution_count": null,
   "metadata": {},
   "outputs": [],
   "source": []
  },
  {
   "cell_type": "code",
   "execution_count": null,
   "metadata": {},
   "outputs": [],
   "source": []
  },
  {
   "cell_type": "code",
   "execution_count": null,
   "metadata": {},
   "outputs": [],
   "source": []
  },
  {
   "cell_type": "code",
   "execution_count": null,
   "metadata": {},
   "outputs": [],
   "source": []
  },
  {
   "cell_type": "code",
   "execution_count": null,
   "metadata": {},
   "outputs": [],
   "source": []
  },
  {
   "cell_type": "code",
   "execution_count": null,
   "metadata": {},
   "outputs": [],
   "source": []
  },
  {
   "cell_type": "code",
   "execution_count": null,
   "metadata": {},
   "outputs": [],
   "source": []
  },
  {
   "cell_type": "code",
   "execution_count": null,
   "metadata": {},
   "outputs": [],
   "source": []
  },
  {
   "cell_type": "code",
   "execution_count": null,
   "metadata": {},
   "outputs": [],
   "source": []
  },
  {
   "cell_type": "code",
   "execution_count": null,
   "metadata": {},
   "outputs": [],
   "source": []
  },
  {
   "cell_type": "code",
   "execution_count": null,
   "metadata": {},
   "outputs": [],
   "source": []
  },
  {
   "cell_type": "code",
   "execution_count": null,
   "metadata": {},
   "outputs": [],
   "source": []
  },
  {
   "cell_type": "code",
   "execution_count": null,
   "metadata": {},
   "outputs": [],
   "source": []
  },
  {
   "cell_type": "code",
   "execution_count": null,
   "metadata": {},
   "outputs": [],
   "source": []
  },
  {
   "cell_type": "code",
   "execution_count": null,
   "metadata": {},
   "outputs": [],
   "source": []
  },
  {
   "cell_type": "code",
   "execution_count": null,
   "metadata": {},
   "outputs": [],
   "source": []
  },
  {
   "cell_type": "code",
   "execution_count": null,
   "metadata": {},
   "outputs": [],
   "source": []
  },
  {
   "cell_type": "code",
   "execution_count": null,
   "metadata": {},
   "outputs": [],
   "source": []
  },
  {
   "cell_type": "code",
   "execution_count": null,
   "metadata": {},
   "outputs": [],
   "source": []
  },
  {
   "cell_type": "code",
   "execution_count": null,
   "metadata": {},
   "outputs": [],
   "source": []
  },
  {
   "cell_type": "code",
   "execution_count": null,
   "metadata": {},
   "outputs": [],
   "source": []
  },
  {
   "cell_type": "code",
   "execution_count": null,
   "metadata": {},
   "outputs": [],
   "source": []
  },
  {
   "cell_type": "code",
   "execution_count": null,
   "metadata": {},
   "outputs": [],
   "source": []
  },
  {
   "cell_type": "markdown",
   "metadata": {},
   "source": [
    "## Get the Data"
   ]
  },
  {
   "cell_type": "markdown",
   "metadata": {},
   "source": [
    "We'll be using a dataset from the [UCI datasets](https://archive.ics.uci.edu/ml/datasets/SMS+Spam+Collection)! This dataset is already located in the folder for this section."
   ]
  },
  {
   "cell_type": "markdown",
   "metadata": {},
   "source": [
    "The file we are using contains a collection of more than 5 thousand SMS phone messages. You can check out the **readme** file for more info.\n",
    "\n",
    "Let's go ahead and use rstrip() plus a list comprehension to get a list of all the lines of text messages:"
   ]
  },
  {
   "cell_type": "code",
   "execution_count": 3,
   "metadata": {},
   "outputs": [
    {
     "name": "stdout",
     "output_type": "stream",
     "text": [
      "5574\n"
     ]
    }
   ],
   "source": [
    "messages = [line.rstrip() for line in open('smsspamcollection/SMSSpamCollection')]\n",
    "print(len(messages))"
   ]
  },
  {
   "cell_type": "markdown",
   "metadata": {},
   "source": [
    "A collection of texts is also sometimes called \"corpus\". Let's print the first ten messages and number them using **enumerate**:"
   ]
  },
  {
   "cell_type": "code",
   "execution_count": 4,
   "metadata": {},
   "outputs": [
    {
     "name": "stdout",
     "output_type": "stream",
     "text": [
      "0 ham\tGo until jurong point, crazy.. Available only in bugis n great world la e buffet... Cine there got amore wat...\n",
      "\n",
      "\n",
      "1 ham\tOk lar... Joking wif u oni...\n",
      "\n",
      "\n",
      "2 spam\tFree entry in 2 a wkly comp to win FA Cup final tkts 21st May 2005. Text FA to 87121 to receive entry question(std txt rate)T&C's apply 08452810075over18's\n",
      "\n",
      "\n",
      "3 ham\tU dun say so early hor... U c already then say...\n",
      "\n",
      "\n",
      "4 ham\tNah I don't think he goes to usf, he lives around here though\n",
      "\n",
      "\n",
      "5 spam\tFreeMsg Hey there darling it's been 3 week's now and no word back! I'd like some fun you up for it still? Tb ok! XxX std chgs to send, £1.50 to rcv\n",
      "\n",
      "\n",
      "6 ham\tEven my brother is not like to speak with me. They treat me like aids patent.\n",
      "\n",
      "\n",
      "7 ham\tAs per your request 'Melle Melle (Oru Minnaminunginte Nurungu Vettam)' has been set as your callertune for all Callers. Press *9 to copy your friends Callertune\n",
      "\n",
      "\n",
      "8 spam\tWINNER!! As a valued network customer you have been selected to receivea £900 prize reward! To claim call 09061701461. Claim code KL341. Valid 12 hours only.\n",
      "\n",
      "\n",
      "9 spam\tHad your mobile 11 months or more? U R entitled to Update to the latest colour mobiles with camera for Free! Call The Mobile Update Co FREE on 08002986030\n",
      "\n",
      "\n"
     ]
    }
   ],
   "source": [
    "for message_no, message in enumerate(messages[:10]):\n",
    "    print(message_no, message)\n",
    "    print('\\n')"
   ]
  },
  {
   "cell_type": "markdown",
   "metadata": {},
   "source": [
    "Due to the spacing we can tell that this is a [TSV](http://en.wikipedia.org/wiki/Tab-separated_values) (\"tab separated values\") file, where the first column is a label saying whether the given message is a normal message (commonly known as \"ham\") or \"spam\". The second column is the message itself. (Note our numbers aren't part of the file, they are just from the **enumerate** call).\n",
    "\n",
    "Using these labeled ham and spam examples, we'll **train a machine learning model to learn to discriminate between ham/spam automatically**. Then, with a trained model, we'll be able to **classify arbitrary unlabeled messages** as ham or spam.\n",
    "\n",
    "From the official SciKit Learn documentation, we can visualize our process:"
   ]
  },
  {
   "cell_type": "markdown",
   "metadata": {},
   "source": [
    "<img src='http://www.astroml.org/sklearn_tutorial/_images/plot_ML_flow_chart_3.png' width=600/>"
   ]
  },
  {
   "cell_type": "markdown",
   "metadata": {},
   "source": [
    "Instead of parsing TSV manually using Python, we can just take advantage of pandas! Let's go ahead and import it!"
   ]
  },
  {
   "cell_type": "code",
   "execution_count": 79,
   "metadata": {},
   "outputs": [],
   "source": [
    "import pandas as pd"
   ]
  },
  {
   "cell_type": "code",
   "execution_count": null,
   "metadata": {},
   "outputs": [],
   "source": []
  },
  {
   "cell_type": "markdown",
   "metadata": {},
   "source": [
    "We'll use **read_csv** and make note of the **sep** argument, we can also specify the desired column names by passing in a list of *names*."
   ]
  },
  {
   "cell_type": "code",
   "execution_count": 80,
   "metadata": {},
   "outputs": [
    {
     "data": {
      "text/html": [
       "<div>\n",
       "<style scoped>\n",
       "    .dataframe tbody tr th:only-of-type {\n",
       "        vertical-align: middle;\n",
       "    }\n",
       "\n",
       "    .dataframe tbody tr th {\n",
       "        vertical-align: top;\n",
       "    }\n",
       "\n",
       "    .dataframe thead th {\n",
       "        text-align: right;\n",
       "    }\n",
       "</style>\n",
       "<table border=\"1\" class=\"dataframe\">\n",
       "  <thead>\n",
       "    <tr style=\"text-align: right;\">\n",
       "      <th></th>\n",
       "      <th>label</th>\n",
       "      <th>message</th>\n",
       "    </tr>\n",
       "  </thead>\n",
       "  <tbody>\n",
       "    <tr>\n",
       "      <th>0</th>\n",
       "      <td>ham</td>\n",
       "      <td>Go until jurong point, crazy.. Available only ...</td>\n",
       "    </tr>\n",
       "    <tr>\n",
       "      <th>1</th>\n",
       "      <td>ham</td>\n",
       "      <td>Ok lar... Joking wif u oni...</td>\n",
       "    </tr>\n",
       "    <tr>\n",
       "      <th>2</th>\n",
       "      <td>spam</td>\n",
       "      <td>Free entry in 2 a wkly comp to win FA Cup fina...</td>\n",
       "    </tr>\n",
       "    <tr>\n",
       "      <th>3</th>\n",
       "      <td>ham</td>\n",
       "      <td>U dun say so early hor... U c already then say...</td>\n",
       "    </tr>\n",
       "    <tr>\n",
       "      <th>4</th>\n",
       "      <td>ham</td>\n",
       "      <td>Nah I don't think he goes to usf, he lives aro...</td>\n",
       "    </tr>\n",
       "  </tbody>\n",
       "</table>\n",
       "</div>"
      ],
      "text/plain": [
       "  label                                            message\n",
       "0   ham  Go until jurong point, crazy.. Available only ...\n",
       "1   ham                      Ok lar... Joking wif u oni...\n",
       "2  spam  Free entry in 2 a wkly comp to win FA Cup fina...\n",
       "3   ham  U dun say so early hor... U c already then say...\n",
       "4   ham  Nah I don't think he goes to usf, he lives aro..."
      ]
     },
     "execution_count": 80,
     "metadata": {},
     "output_type": "execute_result"
    }
   ],
   "source": [
    "messages = pd.read_csv('smsspamcollection/SMSSpamCollection', sep='\\t',\n",
    "                           names=[\"label\", \"message\"])\n",
    "messages.head()\n"
   ]
  },
  {
   "cell_type": "markdown",
   "metadata": {},
   "source": [
    "## Exploratory Data Analysis\n",
    "\n",
    "Let's check out some of the stats with some plots and the built-in methods in pandas!"
   ]
  },
  {
   "cell_type": "code",
   "execution_count": 81,
   "metadata": {},
   "outputs": [
    {
     "data": {
      "text/html": [
       "<div>\n",
       "<style scoped>\n",
       "    .dataframe tbody tr th:only-of-type {\n",
       "        vertical-align: middle;\n",
       "    }\n",
       "\n",
       "    .dataframe tbody tr th {\n",
       "        vertical-align: top;\n",
       "    }\n",
       "\n",
       "    .dataframe thead th {\n",
       "        text-align: right;\n",
       "    }\n",
       "</style>\n",
       "<table border=\"1\" class=\"dataframe\">\n",
       "  <thead>\n",
       "    <tr style=\"text-align: right;\">\n",
       "      <th></th>\n",
       "      <th>label</th>\n",
       "      <th>message</th>\n",
       "    </tr>\n",
       "  </thead>\n",
       "  <tbody>\n",
       "    <tr>\n",
       "      <th>count</th>\n",
       "      <td>5572</td>\n",
       "      <td>5572</td>\n",
       "    </tr>\n",
       "    <tr>\n",
       "      <th>unique</th>\n",
       "      <td>2</td>\n",
       "      <td>5169</td>\n",
       "    </tr>\n",
       "    <tr>\n",
       "      <th>top</th>\n",
       "      <td>ham</td>\n",
       "      <td>Sorry, I'll call later</td>\n",
       "    </tr>\n",
       "    <tr>\n",
       "      <th>freq</th>\n",
       "      <td>4825</td>\n",
       "      <td>30</td>\n",
       "    </tr>\n",
       "  </tbody>\n",
       "</table>\n",
       "</div>"
      ],
      "text/plain": [
       "       label                 message\n",
       "count   5572                    5572\n",
       "unique     2                    5169\n",
       "top      ham  Sorry, I'll call later\n",
       "freq    4825                      30"
      ]
     },
     "execution_count": 81,
     "metadata": {},
     "output_type": "execute_result"
    }
   ],
   "source": [
    "messages.describe()"
   ]
  },
  {
   "cell_type": "markdown",
   "metadata": {},
   "source": [
    "Let's use **groupby** to use describe by label, this way we can begin to think about the features that separate ham and spam!"
   ]
  },
  {
   "cell_type": "code",
   "execution_count": 9,
   "metadata": {},
   "outputs": [
    {
     "data": {
      "text/html": [
       "<div>\n",
       "<table border=\"1\" class=\"dataframe\">\n",
       "  <thead>\n",
       "    <tr style=\"text-align: right;\">\n",
       "      <th></th>\n",
       "      <th></th>\n",
       "      <th>message</th>\n",
       "    </tr>\n",
       "    <tr>\n",
       "      <th>label</th>\n",
       "      <th></th>\n",
       "      <th></th>\n",
       "    </tr>\n",
       "  </thead>\n",
       "  <tbody>\n",
       "    <tr>\n",
       "      <th rowspan=\"4\" valign=\"top\">ham</th>\n",
       "      <th>count</th>\n",
       "      <td>4825</td>\n",
       "    </tr>\n",
       "    <tr>\n",
       "      <th>unique</th>\n",
       "      <td>4516</td>\n",
       "    </tr>\n",
       "    <tr>\n",
       "      <th>top</th>\n",
       "      <td>Sorry, I'll call later</td>\n",
       "    </tr>\n",
       "    <tr>\n",
       "      <th>freq</th>\n",
       "      <td>30</td>\n",
       "    </tr>\n",
       "    <tr>\n",
       "      <th rowspan=\"4\" valign=\"top\">spam</th>\n",
       "      <th>count</th>\n",
       "      <td>747</td>\n",
       "    </tr>\n",
       "    <tr>\n",
       "      <th>unique</th>\n",
       "      <td>653</td>\n",
       "    </tr>\n",
       "    <tr>\n",
       "      <th>top</th>\n",
       "      <td>Please call our customer service representativ...</td>\n",
       "    </tr>\n",
       "    <tr>\n",
       "      <th>freq</th>\n",
       "      <td>4</td>\n",
       "    </tr>\n",
       "  </tbody>\n",
       "</table>\n",
       "</div>"
      ],
      "text/plain": [
       "                                                        message\n",
       "label                                                          \n",
       "ham   count                                                4825\n",
       "      unique                                               4516\n",
       "      top                                Sorry, I'll call later\n",
       "      freq                                                   30\n",
       "spam  count                                                 747\n",
       "      unique                                                653\n",
       "      top     Please call our customer service representativ...\n",
       "      freq                                                    4"
      ]
     },
     "execution_count": 9,
     "metadata": {},
     "output_type": "execute_result"
    }
   ],
   "source": [
    "messages.groupby('label').describe()"
   ]
  },
  {
   "cell_type": "markdown",
   "metadata": {},
   "source": [
    "As we continue our analysis we want to start thinking about the features we are going to be using. This goes along with the general idea of [feature engineering](https://en.wikipedia.org/wiki/Feature_engineering). The better your domain knowledge on the data, the better your ability to engineer more features from it. Feature engineering is a very large part of spam detection in general. I encourage you to read up on the topic!\n",
    "\n",
    "Let's make a new column to detect how long the text messages are:"
   ]
  },
  {
   "cell_type": "code",
   "execution_count": 10,
   "metadata": {},
   "outputs": [
    {
     "data": {
      "text/html": [
       "<div>\n",
       "<table border=\"1\" class=\"dataframe\">\n",
       "  <thead>\n",
       "    <tr style=\"text-align: right;\">\n",
       "      <th></th>\n",
       "      <th>label</th>\n",
       "      <th>message</th>\n",
       "      <th>length</th>\n",
       "    </tr>\n",
       "  </thead>\n",
       "  <tbody>\n",
       "    <tr>\n",
       "      <th>0</th>\n",
       "      <td>ham</td>\n",
       "      <td>Go until jurong point, crazy.. Available only ...</td>\n",
       "      <td>111</td>\n",
       "    </tr>\n",
       "    <tr>\n",
       "      <th>1</th>\n",
       "      <td>ham</td>\n",
       "      <td>Ok lar... Joking wif u oni...</td>\n",
       "      <td>29</td>\n",
       "    </tr>\n",
       "    <tr>\n",
       "      <th>2</th>\n",
       "      <td>spam</td>\n",
       "      <td>Free entry in 2 a wkly comp to win FA Cup fina...</td>\n",
       "      <td>155</td>\n",
       "    </tr>\n",
       "    <tr>\n",
       "      <th>3</th>\n",
       "      <td>ham</td>\n",
       "      <td>U dun say so early hor... U c already then say...</td>\n",
       "      <td>49</td>\n",
       "    </tr>\n",
       "    <tr>\n",
       "      <th>4</th>\n",
       "      <td>ham</td>\n",
       "      <td>Nah I don't think he goes to usf, he lives aro...</td>\n",
       "      <td>61</td>\n",
       "    </tr>\n",
       "  </tbody>\n",
       "</table>\n",
       "</div>"
      ],
      "text/plain": [
       "  label                                            message  length\n",
       "0   ham  Go until jurong point, crazy.. Available only ...     111\n",
       "1   ham                      Ok lar... Joking wif u oni...      29\n",
       "2  spam  Free entry in 2 a wkly comp to win FA Cup fina...     155\n",
       "3   ham  U dun say so early hor... U c already then say...      49\n",
       "4   ham  Nah I don't think he goes to usf, he lives aro...      61"
      ]
     },
     "execution_count": 10,
     "metadata": {},
     "output_type": "execute_result"
    }
   ],
   "source": [
    "messages['length'] = messages['message'].apply(len)\n",
    "messages.head()"
   ]
  },
  {
   "cell_type": "markdown",
   "metadata": {},
   "source": [
    "### Data Visualization\n",
    "Let's visualize this! Let's do the imports:"
   ]
  },
  {
   "cell_type": "code",
   "execution_count": 11,
   "metadata": {},
   "outputs": [],
   "source": [
    "import matplotlib.pyplot as plt\n",
    "import seaborn as sns\n",
    "\n",
    "%matplotlib inline"
   ]
  },
  {
   "cell_type": "code",
   "execution_count": 12,
   "metadata": {},
   "outputs": [
    {
     "data": {
      "text/plain": [
       "<matplotlib.axes._subplots.AxesSubplot at 0x11a03c0b8>"
      ]
     },
     "execution_count": 12,
     "metadata": {},
     "output_type": "execute_result"
    },
    {
     "data": {
      "image/png": "[encoded data removed]",
      "text/plain": [
       "<matplotlib.figure.Figure at 0x11a02b748>"
      ]
     },
     "metadata": {},
     "output_type": "display_data"
    }
   ],
   "source": [
    "messages['length'].plot(bins=50, kind='hist') "
   ]
  },
  {
   "cell_type": "markdown",
   "metadata": {},
   "source": [
    "Play around with the bin size! Looks like text length may be a good feature to think about! Let's try to explain why the x-axis goes all the way to 1000ish, this must mean that there is some really long message!"
   ]
  },
  {
   "cell_type": "code",
   "execution_count": 13,
   "metadata": {},
   "outputs": [
    {
     "data": {
      "text/plain": [
       "count    5572.000000\n",
       "mean       80.489950\n",
       "std        59.942907\n",
       "min         2.000000\n",
       "25%        36.000000\n",
       "50%        62.000000\n",
       "75%       122.000000\n",
       "max       910.000000\n",
       "Name: length, dtype: float64"
      ]
     },
     "execution_count": 13,
     "metadata": {},
     "output_type": "execute_result"
    }
   ],
   "source": [
    "messages.length.describe()"
   ]
  },
  {
   "cell_type": "markdown",
   "metadata": {},
   "source": [
    "Woah! 910 characters, let's use masking to find this message:"
   ]
  },
  {
   "cell_type": "code",
   "execution_count": 14,
   "metadata": {},
   "outputs": [
    {
     "data": {
      "text/plain": [
       "\"For me the love should start with attraction.i should feel that I need her every time around me.she should be the first thing which comes in my thoughts.I would start the day and end it with her.she should be there every time I dream.love will be then when my every breath has her name.my life should happen around her.my life will be named to her.I would cry for her.will give all my happiness and take all her sorrows.I will be ready to fight with anyone for her.I will be in love when I will be doing the craziest things for her.love will be when I don't have to proove anyone that my girl is the most beautiful lady on the whole planet.I will always be singing praises for her.love will be when I start up making chicken curry and end up makiing sambar.life will be the most beautiful then.will get every morning and thank god for the day because she is with me.I would like to say a lot..will tell later..\""
      ]
     },
     "execution_count": 14,
     "metadata": {},
     "output_type": "execute_result"
    }
   ],
   "source": [
    "messages[messages['length'] == 910]['message'].iloc[0]"
   ]
  },
  {
   "cell_type": "markdown",
   "metadata": {},
   "source": [
    "Looks like we have some sort of Romeo sending texts! But let's focus back on the idea of trying to see if message length is a distinguishing feature between ham and spam:"
   ]
  },
  {
   "cell_type": "code",
   "execution_count": 103,
   "metadata": {},
   "outputs": [
    {
     "data": {
      "text/plain": [
       "array([<AxesSubplot:title={'center':'ham'}>,\n",
       "       <AxesSubplot:title={'center':'spam'}>], dtype=object)"
      ]
     },
     "execution_count": 103,
     "metadata": {},
     "output_type": "execute_result"
    },
    {
     "data": {
      "image/png": "[encoded data removed]",
      "text/plain": [
       "<Figure size 864x288 with 2 Axes>"
      ]
     },
     "metadata": {
      "needs_background": "light"
     },
     "output_type": "display_data"
    }
   ],
   "source": [
    "df.hist(column='length', by='labels', bins=50,figsize=(12,4))"
   ]
  },
  {
   "cell_type": "code",
   "execution_count": null,
   "metadata": {},
   "outputs": [],
   "source": []
  },
  {
   "cell_type": "code",
   "execution_count": 104,
   "metadata": {},
   "outputs": [],
   "source": [
    "import string\n"
   ]
  },
  {
   "cell_type": "code",
   "execution_count": 105,
   "metadata": {},
   "outputs": [],
   "source": [
    "str1 = string.punctuation"
   ]
  },
  {
   "cell_type": "code",
   "execution_count": 106,
   "metadata": {},
   "outputs": [],
   "source": [
    "sample = 'This. is a Text. with punc!'"
   ]
  },
  {
   "cell_type": "code",
   "execution_count": 107,
   "metadata": {},
   "outputs": [],
   "source": [
    "pSamp =  [char for char in sample if char not in str1]"
   ]
  },
  {
   "cell_type": "code",
   "execution_count": 108,
   "metadata": {},
   "outputs": [],
   "source": [
    "pSamp = ''.join(pSamp)"
   ]
  },
  {
   "cell_type": "code",
   "execution_count": 109,
   "metadata": {},
   "outputs": [
    {
     "data": {
      "text/plain": [
       "'This is a Text with punc'"
      ]
     },
     "execution_count": 109,
     "metadata": {},
     "output_type": "execute_result"
    }
   ],
   "source": [
    "pSamp"
   ]
  },
  {
   "cell_type": "code",
   "execution_count": 110,
   "metadata": {},
   "outputs": [],
   "source": [
    "from nltk.corpus import stopwords"
   ]
  },
  {
   "cell_type": "code",
   "execution_count": 111,
   "metadata": {},
   "outputs": [],
   "source": [
    "eng=stopwords.words('english')"
   ]
  },
  {
   "cell_type": "code",
   "execution_count": 112,
   "metadata": {},
   "outputs": [],
   "source": [
    "pSamp2 =  [word for word in pSamp.split() if word.lower() not in stopwords.words('english') ]"
   ]
  },
  {
   "cell_type": "code",
   "execution_count": null,
   "metadata": {},
   "outputs": [],
   "source": []
  },
  {
   "cell_type": "code",
   "execution_count": null,
   "metadata": {},
   "outputs": [],
   "source": []
  },
  {
   "cell_type": "code",
   "execution_count": null,
   "metadata": {},
   "outputs": [],
   "source": []
  },
  {
   "cell_type": "code",
   "execution_count": 113,
   "metadata": {},
   "outputs": [
    {
     "data": {
      "text/plain": [
       "['Text', 'punc']"
      ]
     },
     "execution_count": 113,
     "metadata": {},
     "output_type": "execute_result"
    }
   ],
   "source": [
    "pSamp2"
   ]
  },
  {
   "cell_type": "code",
   "execution_count": null,
   "metadata": {},
   "outputs": [],
   "source": []
  },
  {
   "cell_type": "code",
   "execution_count": null,
   "metadata": {},
   "outputs": [],
   "source": []
  },
  {
   "cell_type": "code",
   "execution_count": null,
   "metadata": {},
   "outputs": [],
   "source": []
  },
  {
   "cell_type": "code",
   "execution_count": null,
   "metadata": {},
   "outputs": [],
   "source": []
  },
  {
   "cell_type": "code",
   "execution_count": 114,
   "metadata": {},
   "outputs": [],
   "source": [
    "def textCleaner(sample):\n",
    "    pSam =  [char for char in sample if char not in string.punctuation]\n",
    "    pSam = ''.join(pSam)\n",
    "    \n",
    "    \n",
    "    return [word for word in pSam.split() if word.lower() not in stopwords.words('english') ]\n",
    "    \n",
    "    \n",
    "    \n",
    "    "
   ]
  },
  {
   "cell_type": "code",
   "execution_count": null,
   "metadata": {},
   "outputs": [],
   "source": []
  },
  {
   "cell_type": "code",
   "execution_count": 115,
   "metadata": {},
   "outputs": [
    {
     "data": {
      "text/html": [
       "<div>\n",
       "<style scoped>\n",
       "    .dataframe tbody tr th:only-of-type {\n",
       "        vertical-align: middle;\n",
       "    }\n",
       "\n",
       "    .dataframe tbody tr th {\n",
       "        vertical-align: top;\n",
       "    }\n",
       "\n",
       "    .dataframe thead th {\n",
       "        text-align: right;\n",
       "    }\n",
       "</style>\n",
       "<table border=\"1\" class=\"dataframe\">\n",
       "  <thead>\n",
       "    <tr style=\"text-align: right;\">\n",
       "      <th></th>\n",
       "      <th>labels</th>\n",
       "      <th>Message</th>\n",
       "      <th>length</th>\n",
       "    </tr>\n",
       "  </thead>\n",
       "  <tbody>\n",
       "    <tr>\n",
       "      <th>0</th>\n",
       "      <td>ham</td>\n",
       "      <td>Go until jurong point, crazy.. Available only ...</td>\n",
       "      <td>111</td>\n",
       "    </tr>\n",
       "    <tr>\n",
       "      <th>1</th>\n",
       "      <td>ham</td>\n",
       "      <td>Ok lar... Joking wif u oni...</td>\n",
       "      <td>29</td>\n",
       "    </tr>\n",
       "    <tr>\n",
       "      <th>2</th>\n",
       "      <td>spam</td>\n",
       "      <td>Free entry in 2 a wkly comp to win FA Cup fina...</td>\n",
       "      <td>155</td>\n",
       "    </tr>\n",
       "    <tr>\n",
       "      <th>3</th>\n",
       "      <td>ham</td>\n",
       "      <td>U dun say so early hor... U c already then say...</td>\n",
       "      <td>49</td>\n",
       "    </tr>\n",
       "    <tr>\n",
       "      <th>4</th>\n",
       "      <td>ham</td>\n",
       "      <td>Nah I don't think he goes to usf, he lives aro...</td>\n",
       "      <td>61</td>\n",
       "    </tr>\n",
       "  </tbody>\n",
       "</table>\n",
       "</div>"
      ],
      "text/plain": [
       "  labels                                            Message  length\n",
       "0    ham  Go until jurong point, crazy.. Available only ...     111\n",
       "1    ham                      Ok lar... Joking wif u oni...      29\n",
       "2   spam  Free entry in 2 a wkly comp to win FA Cup fina...     155\n",
       "3    ham  U dun say so early hor... U c already then say...      49\n",
       "4    ham  Nah I don't think he goes to usf, he lives aro...      61"
      ]
     },
     "execution_count": 115,
     "metadata": {},
     "output_type": "execute_result"
    }
   ],
   "source": [
    "df.head()"
   ]
  },
  {
   "cell_type": "code",
   "execution_count": 116,
   "metadata": {},
   "outputs": [
    {
     "data": {
      "text/plain": [
       "0    [Go, jurong, point, crazy, Available, bugis, n...\n",
       "1                       [Ok, lar, Joking, wif, u, oni]\n",
       "2    [Free, entry, 2, wkly, comp, win, FA, Cup, fin...\n",
       "3        [U, dun, say, early, hor, U, c, already, say]\n",
       "4    [Nah, dont, think, goes, usf, lives, around, t...\n",
       "Name: Message, dtype: object"
      ]
     },
     "execution_count": 116,
     "metadata": {},
     "output_type": "execute_result"
    }
   ],
   "source": [
    "df['Message'].head(5).apply(textCleaner)"
   ]
  },
  {
   "cell_type": "code",
   "execution_count": 133,
   "metadata": {},
   "outputs": [],
   "source": [
    "from sklearn.feature_extraction.text import CountVectorizer"
   ]
  },
  {
   "cell_type": "code",
   "execution_count": 134,
   "metadata": {},
   "outputs": [],
   "source": [
    "bowExt = CountVectorizer(analyzer=textCleaner).fit(df['Message'])"
   ]
  },
  {
   "cell_type": "code",
   "execution_count": 135,
   "metadata": {},
   "outputs": [
    {
     "data": {
      "text/plain": [
       "{'Go': 2060,\n",
       " 'jurong': 7555,\n",
       " 'point': 8917,\n",
       " 'crazy': 5769,\n",
       " 'Available': 1110,\n",
       " 'bugis': 5218,\n",
       " 'n': 8336,\n",
       " 'great': 6937,\n",
       " 'world': 11163,\n",
       " 'la': 7668,\n",
       " 'e': 6217,\n",
       " 'buffet': 5217,\n",
       " 'Cine': 1483,\n",
       " 'got': 6906,\n",
       " 'amore': 4653,\n",
       " 'wat': 10965,\n",
       " 'Ok': 3064,\n",
       " 'lar': 7701,\n",
       " 'Joking': 2451,\n",
       " 'wif': 11072,\n",
       " 'u': 10698,\n",
       " 'oni': 8590,\n",
       " 'Free': 1941,\n",
       " 'entry': 6331,\n",
       " '2': 423,\n",
       " 'wkly': 11123,\n",
       " 'comp': 5619,\n",
       " 'win': 11084,\n",
       " 'FA': 1833,\n",
       " 'Cup': 1551,\n",
       " 'final': 6557,\n",
       " 'tkts': 10512,\n",
       " '21st': 443,\n",
       " 'May': 2804,\n",
       " '2005': 430,\n",
       " 'Text': 3953,\n",
       " '87121': 871,\n",
       " 'receive': 9252,\n",
       " 'questionstd': 9159,\n",
       " 'txt': 10686,\n",
       " 'rateTCs': 9200,\n",
       " 'apply': 4731,\n",
       " '08452810075over18s': 73,\n",
       " 'U': 4068,\n",
       " 'dun': 6204,\n",
       " 'say': 9554,\n",
       " 'early': 6222,\n",
       " 'hor': 7186,\n",
       " 'c': 5261,\n",
       " 'already': 4629,\n",
       " 'Nah': 2948,\n",
       " 'dont': 6123,\n",
       " 'think': 10433,\n",
       " 'goes': 6877,\n",
       " 'usf': 10799,\n",
       " 'lives': 7842,\n",
       " 'around': 4777,\n",
       " 'though': 10450,\n",
       " 'FreeMsg': 1943,\n",
       " 'Hey': 2222,\n",
       " 'darling': 5864,\n",
       " '3': 543,\n",
       " 'weeks': 11011,\n",
       " 'word': 11150,\n",
       " 'back': 4893,\n",
       " 'Id': 2346,\n",
       " 'like': 7800,\n",
       " 'fun': 6755,\n",
       " 'still': 10093,\n",
       " 'Tb': 3930,\n",
       " 'ok': 8567,\n",
       " 'XxX': 4379,\n",
       " 'std': 10073,\n",
       " 'chgs': 5467,\n",
       " 'send': 9641,\n",
       " '£150': 11371,\n",
       " 'rcv': 9209,\n",
       " 'Even': 1802,\n",
       " 'brother': 5193,\n",
       " 'speak': 9971,\n",
       " 'treat': 10629,\n",
       " 'aids': 4590,\n",
       " 'patent': 8761,\n",
       " 'per': 8796,\n",
       " 'request': 9356,\n",
       " 'Melle': 2814,\n",
       " 'Oru': 3098,\n",
       " 'Minnaminunginte': 2833,\n",
       " 'Nurungu': 3023,\n",
       " 'Vettam': 4170,\n",
       " 'set': 9664,\n",
       " 'callertune': 5292,\n",
       " 'Callers': 1421,\n",
       " 'Press': 3278,\n",
       " '9': 909,\n",
       " 'copy': 5716,\n",
       " 'friends': 6719,\n",
       " 'Callertune': 1422,\n",
       " 'WINNER': 4221,\n",
       " 'valued': 10828,\n",
       " 'network': 8406,\n",
       " 'customer': 5820,\n",
       " 'selected': 9628,\n",
       " 'receivea': 9253,\n",
       " '£900': 11412,\n",
       " 'prize': 9058,\n",
       " 'reward': 9413,\n",
       " 'claim': 5519,\n",
       " 'call': 5275,\n",
       " '09061701461': 219,\n",
       " 'Claim': 1485,\n",
       " 'code': 5574,\n",
       " 'KL341': 2477,\n",
       " 'Valid': 4161,\n",
       " '12': 326,\n",
       " 'hours': 7201,\n",
       " 'mobile': 8216,\n",
       " '11': 315,\n",
       " 'months': 8251,\n",
       " 'R': 3321,\n",
       " 'entitled': 6328,\n",
       " 'Update': 4128,\n",
       " 'latest': 7716,\n",
       " 'colour': 5594,\n",
       " 'mobiles': 8217,\n",
       " 'camera': 5304,\n",
       " 'Call': 1417,\n",
       " 'Mobile': 2852,\n",
       " 'Co': 1492,\n",
       " 'FREE': 1865,\n",
       " '08002986030': 58,\n",
       " 'Im': 2352,\n",
       " 'gonna': 6890,\n",
       " 'home': 7159,\n",
       " 'soon': 9931,\n",
       " 'want': 10945,\n",
       " 'talk': 10303,\n",
       " 'stuff': 10153,\n",
       " 'anymore': 4701,\n",
       " 'tonight': 10557,\n",
       " 'k': 7561,\n",
       " 'Ive': 2394,\n",
       " 'cried': 5783,\n",
       " 'enough': 6319,\n",
       " 'today': 10524,\n",
       " 'SIX': 3495,\n",
       " 'chances': 5411,\n",
       " 'CASH': 1353,\n",
       " '100': 294,\n",
       " '20000': 427,\n",
       " 'pounds': 8975,\n",
       " 'CSH11': 1405,\n",
       " '87575': 875,\n",
       " 'Cost': 1524,\n",
       " '150pday': 364,\n",
       " '6days': 763,\n",
       " '16': 382,\n",
       " 'TsandCs': 4048,\n",
       " 'Reply': 3414,\n",
       " 'HL': 2139,\n",
       " '4': 605,\n",
       " 'info': 7354,\n",
       " 'URGENT': 4090,\n",
       " '1': 292,\n",
       " 'week': 11006,\n",
       " 'membership': 8110,\n",
       " '£100000': 11365,\n",
       " 'Prize': 3283,\n",
       " 'Jackpot': 2421,\n",
       " 'Txt': 4062,\n",
       " 'CLAIM': 1378,\n",
       " '81010': 821,\n",
       " 'TC': 3847,\n",
       " 'wwwdbuknet': 11231,\n",
       " 'LCCLTD': 2551,\n",
       " 'POBOX': 3138,\n",
       " '4403LDNW1A7RW18': 626,\n",
       " 'searching': 9597,\n",
       " 'right': 9422,\n",
       " 'words': 11154,\n",
       " 'thank': 10392,\n",
       " 'breather': 5166,\n",
       " 'promise': 9092,\n",
       " 'wont': 11145,\n",
       " 'take': 10295,\n",
       " 'help': 7089,\n",
       " 'granted': 6929,\n",
       " 'fulfil': 6751,\n",
       " 'wonderful': 11142,\n",
       " 'blessing': 5075,\n",
       " 'times': 10491,\n",
       " 'DATE': 1568,\n",
       " 'SUNDAY': 3567,\n",
       " 'XXXMobileMovieClub': 4370,\n",
       " 'use': 10793,\n",
       " 'credit': 5774,\n",
       " 'click': 5540,\n",
       " 'WAP': 4200,\n",
       " 'link': 7818,\n",
       " 'next': 8420,\n",
       " 'message': 8133,\n",
       " 'httpwap': 7224,\n",
       " 'xxxmobilemovieclubcomnQJKGIGHJJGCBL': 11273,\n",
       " 'Oh': 3059,\n",
       " 'kim': 7618,\n",
       " 'watching': 10970,\n",
       " 'Eh': 1769,\n",
       " 'remember': 9319,\n",
       " 'spell': 9985,\n",
       " 'name': 8348,\n",
       " 'Yes': 4425,\n",
       " 'v': 10816,\n",
       " 'naughty': 8368,\n",
       " 'make': 8000,\n",
       " 'wet': 11040,\n",
       " 'Fine': 1914,\n",
       " 'that\\x92s': 10405,\n",
       " 'way': 10979,\n",
       " 'feel': 6517,\n",
       " 'That\\x92s': 3964,\n",
       " 'gota': 6907,\n",
       " 'b': 4880,\n",
       " 'England': 1784,\n",
       " 'Macedonia': 2772,\n",
       " 'miss': 8191,\n",
       " 'goalsteam': 6870,\n",
       " 'news': 8415,\n",
       " 'ur': 10777,\n",
       " 'national': 8362,\n",
       " 'team': 10338,\n",
       " '87077': 870,\n",
       " 'eg': 6258,\n",
       " 'ENGLAND': 1728,\n",
       " 'TryWALES': 4042,\n",
       " 'SCOTLAND': 3460,\n",
       " '4txtú120': 677,\n",
       " 'POBOXox36504W45WQ': 3141,\n",
       " 'seriously': 9658,\n",
       " 'I‘m': 2401,\n",
       " 'going': 6882,\n",
       " 'try': 10655,\n",
       " 'ha': 6992,\n",
       " 'joking': 7534,\n",
       " 'ü': 11418,\n",
       " 'pay': 8769,\n",
       " 'first': 6584,\n",
       " 'da': 5832,\n",
       " 'stock': 10097,\n",
       " 'comin': 5609,\n",
       " 'Aft': 1019,\n",
       " 'finish': 6570,\n",
       " 'lunch': 7947,\n",
       " 'go': 6864,\n",
       " 'str': 10117,\n",
       " 'lor': 7888,\n",
       " 'Ard': 1084,\n",
       " 'smth': 9881,\n",
       " 'Ffffffffff': 1905,\n",
       " 'Alright': 1053,\n",
       " 'meet': 8092,\n",
       " 'sooner': 9932,\n",
       " 'forced': 6655,\n",
       " 'eat': 6234,\n",
       " 'slice': 9836,\n",
       " 'really': 9234,\n",
       " 'hungry': 7249,\n",
       " 'tho': 10446,\n",
       " 'sucks': 10186,\n",
       " 'Mark': 2794,\n",
       " 'getting': 6832,\n",
       " 'worried': 11169,\n",
       " 'knows': 7643,\n",
       " 'sick': 9764,\n",
       " 'turn': 10672,\n",
       " 'pizza': 8869,\n",
       " 'Lol': 2648,\n",
       " 'always': 4641,\n",
       " 'convincing': 5703,\n",
       " 'catch': 5374,\n",
       " 'bus': 5237,\n",
       " 'frying': 6741,\n",
       " 'egg': 6260,\n",
       " 'tea': 10332,\n",
       " 'eating': 6237,\n",
       " 'moms': 8235,\n",
       " 'left': 7748,\n",
       " 'dinner': 6045,\n",
       " 'Love': 2661,\n",
       " 'amp': 4655,\n",
       " 'packing': 8693,\n",
       " 'car': 5331,\n",
       " 'Ill': 2350,\n",
       " 'let': 7769,\n",
       " 'know': 7639,\n",
       " 'theres': 10421,\n",
       " 'room': 9460,\n",
       " 'Ahhh': 1028,\n",
       " 'Work': 4345,\n",
       " 'vaguely': 10819,\n",
       " 'Wait': 4256,\n",
       " 'thats': 10404,\n",
       " 'clear': 5534,\n",
       " 'sure': 10237,\n",
       " 'sarcastic': 9536,\n",
       " 'x': 11260,\n",
       " 'doesnt': 6099,\n",
       " 'live': 7839,\n",
       " 'us': 10787,\n",
       " 'Yeah': 4416,\n",
       " 'apologetic': 4719,\n",
       " 'fallen': 6468,\n",
       " 'actin': 4509,\n",
       " 'spoilt': 10005,\n",
       " 'child': 5483,\n",
       " 'caught': 5378,\n",
       " 'Till': 3997,\n",
       " 'badly': 4898,\n",
       " 'cheers': 5450,\n",
       " 'K': 2468,\n",
       " 'tell': 10354,\n",
       " 'anything': 4707,\n",
       " 'fear': 6509,\n",
       " 'fainting': 6459,\n",
       " 'housework': 7205,\n",
       " 'Quick': 3316,\n",
       " 'cuppa': 5810,\n",
       " 'Thanks': 3958,\n",
       " 'subscription': 10176,\n",
       " 'Ringtone': 3424,\n",
       " 'UK': 4074,\n",
       " 'charged': 5423,\n",
       " '£5month': 11404,\n",
       " 'Please': 3235,\n",
       " 'confirm': 5661,\n",
       " 'replying': 9351,\n",
       " 'YES': 4388,\n",
       " 'reply': 9349,\n",
       " 'Yup': 4450,\n",
       " 'look': 7880,\n",
       " 'timings': 10497,\n",
       " 'msg': 8283,\n",
       " 'Xuhui': 4377,\n",
       " 'learn': 7737,\n",
       " '2nd': 526,\n",
       " 'may': 8065,\n",
       " 'lesson': 7767,\n",
       " '8am': 903,\n",
       " 'Oops': 3085,\n",
       " 'roommates': 9463,\n",
       " 'done': 6120,\n",
       " 'see': 9613,\n",
       " 'letter': 7771,\n",
       " 'B': 1120,\n",
       " 'Anything': 1070,\n",
       " 'decide': 5915,\n",
       " 'Hello': 2209,\n",
       " 'Hows': 2279,\n",
       " 'saturday': 9546,\n",
       " 'texting': 10383,\n",
       " 'youd': 11318,\n",
       " 'decided': 5916,\n",
       " 'tomo': 10546,\n",
       " 'im': 7307,\n",
       " 'trying': 10657,\n",
       " 'invite': 7410,\n",
       " 'Pls': 3237,\n",
       " 'ahead': 4582,\n",
       " 'watts': 10977,\n",
       " 'wanted': 10947,\n",
       " 'weekend': 11008,\n",
       " 'Abiola': 999,\n",
       " 'forget': 6661,\n",
       " 'need': 8386,\n",
       " 'crave': 5766,\n",
       " 'love': 7913,\n",
       " 'sweet': 10261,\n",
       " 'Arabian': 1082,\n",
       " 'steed': 10079,\n",
       " 'Mmmmmm': 2846,\n",
       " 'Yummy': 4447,\n",
       " '07732584351': 29,\n",
       " 'Rodger': 3430,\n",
       " 'Burns': 1329,\n",
       " 'MSG': 2757,\n",
       " 'tried': 10638,\n",
       " 'sms': 9876,\n",
       " 'free': 6699,\n",
       " 'nokia': 8455,\n",
       " 'camcorder': 5302,\n",
       " '08000930705': 54,\n",
       " 'delivery': 5950,\n",
       " 'tomorrow': 10549,\n",
       " 'SEEING': 3464,\n",
       " 'Great': 2088,\n",
       " 'hope': 7177,\n",
       " 'man': 8009,\n",
       " 'well': 11023,\n",
       " 'endowed': 6303,\n",
       " 'ltgt': 7939,\n",
       " 'inches': 7333,\n",
       " 'callsmessagesmissed': 5298,\n",
       " 'calls': 5297,\n",
       " 'Didnt': 1663,\n",
       " 'get': 6824,\n",
       " 'hep': 7098,\n",
       " 'immunisation': 7315,\n",
       " 'nigeria': 8427,\n",
       " 'Fair': 1893,\n",
       " 'hopefully': 7182,\n",
       " 'tyler': 10692,\n",
       " 'cant': 5320,\n",
       " 'could': 5738,\n",
       " 'maybe': 8067,\n",
       " 'ask': 4799,\n",
       " 'bit': 5053,\n",
       " 'stubborn': 10143,\n",
       " 'didnt': 6014,\n",
       " 'even': 6369,\n",
       " 'hospital': 7192,\n",
       " 'kept': 7594,\n",
       " 'telling': 10355,\n",
       " 'weak': 10983,\n",
       " 'sucker': 10184,\n",
       " 'Hospitals': 2271,\n",
       " 'suckers': 10185,\n",
       " 'thinked': 10435,\n",
       " 'First': 1918,\n",
       " 'time': 10487,\n",
       " 'saw': 9553,\n",
       " 'class': 5527,\n",
       " 'gram': 6923,\n",
       " 'usually': 10805,\n",
       " 'runs': 9495,\n",
       " 'half': 7004,\n",
       " 'eighth': 6267,\n",
       " 'smarter': 9858,\n",
       " 'gets': 6828,\n",
       " 'almost': 4625,\n",
       " 'whole': 11063,\n",
       " 'second': 9601,\n",
       " 'fyi': 6768,\n",
       " 'ride': 9421,\n",
       " 'morning': 8256,\n",
       " 'hes': 7109,\n",
       " 'crashing': 5765,\n",
       " 'place': 8870,\n",
       " 'Wow': 4352,\n",
       " 'never': 8410,\n",
       " 'realized': 9232,\n",
       " 'embarassed': 6287,\n",
       " 'accomodations': 4492,\n",
       " 'thought': 10451,\n",
       " 'liked': 7801,\n",
       " 'since': 9788,\n",
       " 'best': 5014,\n",
       " 'seemed': 9619,\n",
       " 'happy': 7035,\n",
       " 'cave': 5382,\n",
       " 'sorry': 9941,\n",
       " 'give': 6850,\n",
       " 'offered': 8547,\n",
       " 'embarassing': 6288,\n",
       " 'SMS': 3506,\n",
       " 'ac': 4478,\n",
       " 'Sptv': 3762,\n",
       " 'New': 2968,\n",
       " 'Jersey': 2441,\n",
       " 'Devils': 1657,\n",
       " 'Detroit': 1656,\n",
       " 'Red': 3394,\n",
       " 'Wings': 4322,\n",
       " 'play': 8884,\n",
       " 'Ice': 2344,\n",
       " 'Hockey': 2249,\n",
       " 'Correct': 1522,\n",
       " 'Incorrect': 2360,\n",
       " 'End': 1782,\n",
       " 'END': 1726,\n",
       " 'SPTV': 3538,\n",
       " 'Mallika': 2784,\n",
       " 'Sherawat': 3653,\n",
       " 'yesterday': 11299,\n",
       " 'Find': 1913,\n",
       " 'ltURLgt': 7938,\n",
       " 'Congrats': 1513,\n",
       " 'year': 11290,\n",
       " 'special': 9973,\n",
       " 'cinema': 5515,\n",
       " 'pass': 8750,\n",
       " '09061209465': 214,\n",
       " 'C': 1337,\n",
       " 'Suprman': 3821,\n",
       " 'V': 4145,\n",
       " 'Matrix3': 2801,\n",
       " 'StarWars3': 3771,\n",
       " 'etc': 6359,\n",
       " 'bx420ip45we': 5256,\n",
       " '150pm': 365,\n",
       " 'Dont': 1694,\n",
       " 'Sorry': 3735,\n",
       " 'later': 7714,\n",
       " 'meeting': 8094,\n",
       " 'Tell': 3942,\n",
       " 'reached': 9216,\n",
       " 'Yesgauti': 4428,\n",
       " 'sehwag': 9625,\n",
       " 'odi': 8541,\n",
       " 'series': 9656,\n",
       " 'pick': 8844,\n",
       " 'burger': 5229,\n",
       " 'move': 8270,\n",
       " 'Pain': 3180,\n",
       " 'killing': 7615,\n",
       " 'Ha': 2168,\n",
       " 'good': 6892,\n",
       " 'joke': 7529,\n",
       " 'Girls': 2055,\n",
       " 'situation': 9808,\n",
       " 'seekers': 9616,\n",
       " 'part': 8739,\n",
       " 'checking': 5447,\n",
       " 'IQ': 2329,\n",
       " 'took': 10566,\n",
       " 'forever': 6658,\n",
       " 'come': 5601,\n",
       " 'double': 6134,\n",
       " 'check': 5444,\n",
       " 'hair': 7001,\n",
       " 'dresser': 6162,\n",
       " 'said': 9512,\n",
       " 'wun': 11208,\n",
       " 'cut': 5823,\n",
       " 'short': 9730,\n",
       " 'nice': 8423,\n",
       " 'pleased': 8895,\n",
       " 'advise': 4547,\n",
       " 'following': 6639,\n",
       " 'recent': 9256,\n",
       " 'review': 9411,\n",
       " 'Mob': 2849,\n",
       " 'awarded': 4873,\n",
       " '£1500': 11372,\n",
       " 'Bonus': 1282,\n",
       " '09066364589': 263,\n",
       " 'Today': 4011,\n",
       " 'song': 9927,\n",
       " 'dedicated': 5925,\n",
       " 'day': 5881,\n",
       " 'dedicate': 5924,\n",
       " 'Send': 3623,\n",
       " 'valuable': 10825,\n",
       " 'frnds': 6728,\n",
       " 'rply': 9476,\n",
       " 'Urgent': 4135,\n",
       " 'UR': 4087,\n",
       " 'complimentary': 5636,\n",
       " 'trip': 10639,\n",
       " 'EuroDisinc': 1799,\n",
       " 'Trav': 4032,\n",
       " 'AcoEntry41': 1008,\n",
       " '£1000': 11363,\n",
       " 'DIS': 1587,\n",
       " '186£150moreFrmMob': 391,\n",
       " 'ShrAcomOrSglSuplt10': 3673,\n",
       " 'LS1': 2589,\n",
       " '3AJ': 576,\n",
       " 'hear': 7066,\n",
       " 'new': 8413,\n",
       " 'Divorce': 1679,\n",
       " 'Barbie': 1225,\n",
       " 'comes': 5605,\n",
       " 'Kens': 2497,\n",
       " 'plane': 8877,\n",
       " 'month': 8248,\n",
       " 'end': 6298,\n",
       " 'Wah': 4254,\n",
       " 'lucky': 7944,\n",
       " 'save': 9549,\n",
       " 'money': 8241,\n",
       " 'Hee': 2203,\n",
       " 'Finished': 1917,\n",
       " 'HI': 2135,\n",
       " 'BABE': 1124,\n",
       " 'IM': 2308,\n",
       " 'HOME': 2145,\n",
       " 'WANNA': 4197,\n",
       " 'SOMETHING': 3515,\n",
       " 'XX': 4367,\n",
       " 'Kkwhere': 2527,\n",
       " 'youhow': 11321,\n",
       " 'performed': 8803,\n",
       " 'waiting': 10924,\n",
       " 'machan': 7969,\n",
       " 'Thats': 3963,\n",
       " 'cool': 5709,\n",
       " 'gentleman': 6818,\n",
       " 'dignity': 6036,\n",
       " 'respect': 9377,\n",
       " 'peoples': 8795,\n",
       " 'much': 8299,\n",
       " 'shy': 9760,\n",
       " 'pa': 8688,\n",
       " 'operate': 8606,\n",
       " 'Still': 3783,\n",
       " 'looking': 7883,\n",
       " 'job': 7516,\n",
       " 'Tas': 3927,\n",
       " 'earn': 6223,\n",
       " 'ah': 4580,\n",
       " 'hi': 7116,\n",
       " 'stop': 10106,\n",
       " 'urgnt': 10782,\n",
       " 'real': 9226,\n",
       " 'yo': 11308,\n",
       " 'tickets': 10478,\n",
       " 'one': 8586,\n",
       " 'jacket': 7477,\n",
       " 'used': 10794,\n",
       " 'multis': 8307,\n",
       " 'started': 10054,\n",
       " 'requests': 9357,\n",
       " 'pain': 8700,\n",
       " 'came': 5303,\n",
       " 'bed': 4973,\n",
       " 'Double': 1700,\n",
       " 'coins': 5580,\n",
       " 'factory': 6451,\n",
       " 'gotta': 6910,\n",
       " 'cash': 5363,\n",
       " 'nitros': 8445,\n",
       " 'babe': 4885,\n",
       " 'Ela': 1772,\n",
       " 'kanoil': 7577,\n",
       " 'download': 6140,\n",
       " 'wen': 11028,\n",
       " 'Don‘t': 1697,\n",
       " 'stand': 10043,\n",
       " 'close': 5546,\n",
       " 'you‘ll': 11338,\n",
       " 'something': 9915,\n",
       " 'another': 4686,\n",
       " 'night': 8428,\n",
       " 'spent': 9990,\n",
       " 'late': 7709,\n",
       " 'afternoon': 4563,\n",
       " 'casualty': 5372,\n",
       " 'means': 8083,\n",
       " 'havent': 7051,\n",
       " 'stuff42moro': 10154,\n",
       " 'includes': 7336,\n",
       " 'sheets': 9699,\n",
       " 'Smile': 3713,\n",
       " 'Pleasure': 3236,\n",
       " 'trouble': 10644,\n",
       " 'pours': 8977,\n",
       " 'Rain': 3368,\n",
       " 'sum1': 10204,\n",
       " 'Hurts': 2289,\n",
       " 'becoz': 4971,\n",
       " 'SOMEONE': 3513,\n",
       " 'Loves': 2667,\n",
       " 'Smiling': 3715,\n",
       " 'service': 9661,\n",
       " 'representative': 9354,\n",
       " '0800': 50,\n",
       " '169': 384,\n",
       " '6031': 726,\n",
       " '10am9pm': 309,\n",
       " 'guaranteed': 6969,\n",
       " '£5000': 11399,\n",
       " 'Havent': 2194,\n",
       " 'planning': 8881,\n",
       " 'buy': 5248,\n",
       " 'lido': 7783,\n",
       " '530': 697,\n",
       " 'show': 9744,\n",
       " 'work': 11155,\n",
       " 'ringtone': 9429,\n",
       " 'collected': 5587,\n",
       " 'Simply': 3683,\n",
       " 'text': 10378,\n",
       " 'password': 8758,\n",
       " 'MIX': 2732,\n",
       " '85069': 856,\n",
       " 'verify': 10846,\n",
       " 'Get': 2047,\n",
       " 'Usher': 4140,\n",
       " 'Britney': 1315,\n",
       " 'FML': 1857,\n",
       " 'PO': 3136,\n",
       " 'Box': 1292,\n",
       " '5249': 694,\n",
       " 'MK17': 2733,\n",
       " '92H': 914,\n",
       " '450Ppw': 636,\n",
       " 'Watching': 4277,\n",
       " 'telugu': 10359,\n",
       " 'moviewat': 8275,\n",
       " 'abt': 4474,\n",
       " 'loads': 7850,\n",
       " 'loans': 7852,\n",
       " 'Hi': 2225,\n",
       " 'Wk': 4331,\n",
       " 'hols': 7157,\n",
       " 'run': 9492,\n",
       " 'Forgot': 1934,\n",
       " 'hairdressers': 7003,\n",
       " 'appointment': 4735,\n",
       " 'four': 6685,\n",
       " 'shower': 9746,\n",
       " 'beforehand': 4985,\n",
       " 'cause': 5379,\n",
       " 'prob': 9062,\n",
       " 'cup': 5808,\n",
       " 'coffee': 5575,\n",
       " 'animation': 4673,\n",
       " 'nothing': 8480,\n",
       " 'else': 6282,\n",
       " 'Okay': 3065,\n",
       " 'price': 9038,\n",
       " 'long': 7876,\n",
       " 'legal': 7751,\n",
       " 'Wen': 4295,\n",
       " 'ave': 4861,\n",
       " 'ams': 4657,\n",
       " 'xx': 11270,\n",
       " 'gone': 6888,\n",
       " '4the': 675,\n",
       " 'driving': 6171,\n",
       " 'test': 10374,\n",
       " 'yet': 11300,\n",
       " 'wow': 11184,\n",
       " 'Youre': 4443,\n",
       " 'mean': 8079,\n",
       " 'guess': 6973,\n",
       " 'gave': 6799,\n",
       " 'boston': 5126,\n",
       " 'men': 8115,\n",
       " 'changed': 5413,\n",
       " 'search': 9596,\n",
       " 'location': 7855,\n",
       " 'nyc': 8519,\n",
       " 'Cuz': 1560,\n",
       " 'signin': 9774,\n",
       " 'page': 8696,\n",
       " 'says': 9559,\n",
       " 'Umma': 4110,\n",
       " 'life': 7786,\n",
       " 'vava': 10836,\n",
       " 'umma': 10711,\n",
       " 'lot': 7897,\n",
       " 'dear': 5902,\n",
       " 'wishes': 11104,\n",
       " 'birthday': 5051,\n",
       " 'making': 8004,\n",
       " 'truly': 10651,\n",
       " 'memorable': 8112,\n",
       " 'Aight': 1031,\n",
       " 'hit': 7135,\n",
       " 'would': 11180,\n",
       " 'ip': 7418,\n",
       " 'address': 4524,\n",
       " 'considering': 5678,\n",
       " 'computer': 5642,\n",
       " 'isnt': 7440,\n",
       " 'minecraft': 8170,\n",
       " 'server': 9660,\n",
       " 'Grumpy': 2092,\n",
       " 'old': 8580,\n",
       " 'people': 8794,\n",
       " 'mom': 8232,\n",
       " 'better': 5020,\n",
       " 'lying': 7960,\n",
       " 'jokes': 7531,\n",
       " 'worry': 11171,\n",
       " 'busy': 5243,\n",
       " 'plural': 8905,\n",
       " 'noun': 8487,\n",
       " 'research': 9363,\n",
       " 'Going': 2066,\n",
       " 'dinnermsg': 6046,\n",
       " 'cos': 5727,\n",
       " 'things': 10432,\n",
       " 'scared': 9565,\n",
       " 'mah': 7990,\n",
       " 'Cos': 1523,\n",
       " 'loud': 7908,\n",
       " 'GENT': 1979,\n",
       " 'contact': 5683,\n",
       " 'Last': 2607,\n",
       " 'weekends': 11009,\n",
       " 'draw': 6150,\n",
       " 'shows': 9751,\n",
       " 'GUARANTEED': 2022,\n",
       " '09064012160': 238,\n",
       " 'Code': 1494,\n",
       " 'K52': 2469,\n",
       " '12hrs': 338,\n",
       " '150ppm': 370,\n",
       " 'Wa': 4252,\n",
       " 'openin': 8603,\n",
       " 'sentence': 9650,\n",
       " 'formal': 6669,\n",
       " 'Anyway': 1072,\n",
       " 'fine': 6565,\n",
       " 'juz': 7560,\n",
       " 'tt': 10661,\n",
       " 'eatin': 6236,\n",
       " 'puttin': 9143,\n",
       " 'weightHaha': 11016,\n",
       " 'anythin': 4706,\n",
       " 'happened': 7027,\n",
       " 'entered': 6321,\n",
       " 'cabin': 5263,\n",
       " 'PA': 3104,\n",
       " 'Happy': 2186,\n",
       " 'Bday': 1232,\n",
       " 'Boss': 1290,\n",
       " 'felt': 6526,\n",
       " 'askd': 4800,\n",
       " 'invited': 7411,\n",
       " 'apartment': 4715,\n",
       " 'went': 11030,\n",
       " 'winner': 11094,\n",
       " 'specially': 9977,\n",
       " 'holiday': 7153,\n",
       " 'flights': 6609,\n",
       " 'inc': 7331,\n",
       " 'operator': 8607,\n",
       " '0871277810910pmin': 123,\n",
       " '18': 387,\n",
       " 'Goodo': 2075,\n",
       " 'must': 8324,\n",
       " 'friday': 6712,\n",
       " 'eggpotato': 6261,\n",
       " 'ratio': 9203,\n",
       " 'tortilla': 10583,\n",
       " 'needed': 8388,\n",
       " 'Hmmmy': 2246,\n",
       " 'uncle': 10716,\n",
       " 'informed': 7358,\n",
       " 'paying': 8773,\n",
       " 'school': 9571,\n",
       " 'directly': 6050,\n",
       " 'pls': 8901,\n",
       " 'food': 6645,\n",
       " 'PRIVATE': 3166,\n",
       " '2004': 429,\n",
       " 'Account': 1004,\n",
       " 'Statement': 3776,\n",
       " '07742676969': 31,\n",
       " '786': 788,\n",
       " 'unredeemed': 10754,\n",
       " 'Points': 3251,\n",
       " '08719180248': 171,\n",
       " 'Identifier': 2348,\n",
       " '45239': 639,\n",
       " 'Expires': 1825,\n",
       " '£2000': 11384,\n",
       " 'Caller': 1420,\n",
       " '5903': 702,\n",
       " 'Landline': 2602,\n",
       " '09064019788': 244,\n",
       " 'BOX42WR29C': 1185,\n",
       " '150PPM': 355,\n",
       " 'applespairsall': 4729,\n",
       " 'malarky': 8006,\n",
       " 'Todays': 4012,\n",
       " 'Voda': 4179,\n",
       " 'numbers': 8510,\n",
       " 'ending': 6300,\n",
       " '7548': 783,\n",
       " '350': 566,\n",
       " 'award': 4872,\n",
       " 'match': 8046,\n",
       " 'please': 8894,\n",
       " '08712300220': 105,\n",
       " 'quoting': 9170,\n",
       " '4041': 610,\n",
       " 'standard': 10044,\n",
       " 'rates': 9201,\n",
       " 'app': 4723,\n",
       " 'sao': 9531,\n",
       " 'mu': 8298,\n",
       " 'Ü': 11415,\n",
       " 'predict': 9005,\n",
       " 'üll': 11419,\n",
       " 'buying': 5251,\n",
       " 'Good': 2070,\n",
       " 'knowyetunde': 7646,\n",
       " 'hasnt': 7042,\n",
       " 'sent': 9649,\n",
       " 'bother': 5128,\n",
       " 'sending': 9642,\n",
       " 'involve': 7415,\n",
       " 'shouldnt': 9738,\n",
       " 'imposed': 7321,\n",
       " 'apologise': 4720,\n",
       " 'HEY': 2131,\n",
       " 'GIRL': 1985,\n",
       " 'HOPE': 2149,\n",
       " 'WELL': 4207,\n",
       " 'DEL': 1580,\n",
       " 'BAK': 1134,\n",
       " 'LONG': 2575,\n",
       " 'TIME': 3883,\n",
       " 'GIVE': 1988,\n",
       " 'CALL': 1341,\n",
       " 'SUM': 3564,\n",
       " 'LUCYxx': 2595,\n",
       " 'Kkhow': 2521,\n",
       " 'cost': 5729,\n",
       " 'Dear': 1634,\n",
       " 'Tmorrowpls': 4005,\n",
       " 'accomodate': 4491,\n",
       " 'answer': 4689,\n",
       " 'question': 9156,\n",
       " 'Sunshine': 3817,\n",
       " 'Quiz': 3318,\n",
       " 'Wkly': 4332,\n",
       " 'Q': 3304,\n",
       " 'Win': 4320,\n",
       " 'top': 10574,\n",
       " 'Sony': 3732,\n",
       " 'DVD': 1614,\n",
       " 'player': 8886,\n",
       " 'country': 5744,\n",
       " 'Algarve': 1047,\n",
       " 'ansr': 4688,\n",
       " '82277': 827,\n",
       " 'SPTyrone': 3539,\n",
       " 'Want': 4267,\n",
       " 'laid': 7681,\n",
       " 'Dogging': 1688,\n",
       " 'locations': 7856,\n",
       " 'direct': 6049,\n",
       " 'mob': 8215,\n",
       " 'Join': 2447,\n",
       " 'UKs': 4077,\n",
       " 'largest': 7703,\n",
       " 'Network': 2963,\n",
       " 'bt': 5207,\n",
       " 'Txting': 4065,\n",
       " 'GRAVEL': 2018,\n",
       " '69888': 752,\n",
       " 'Nt': 3020,\n",
       " 'ec2a': 6239,\n",
       " '31pmsg150p': 559,\n",
       " 'haf': 6997,\n",
       " 'msn': 8293,\n",
       " 'yijuehotmailcom': 11306,\n",
       " 'rooms': 9464,\n",
       " 'befor': 4984,\n",
       " 'activities': 4514,\n",
       " 'Youll': 4442,\n",
       " 'msgs': 8286,\n",
       " 'chat': 5435,\n",
       " 'svc': 10252,\n",
       " 'Hardcore': 2188,\n",
       " 'services': 9662,\n",
       " 'GO': 1993,\n",
       " '69988': 756,\n",
       " 'Age': 1025,\n",
       " 'Verify': 4169,\n",
       " 'yr': 11341,\n",
       " 'Got': 2080,\n",
       " 'lazy': 7731,\n",
       " 'type': 10694,\n",
       " 'forgot': 6666,\n",
       " 'lect': 7745,\n",
       " 'pouch': 8972,\n",
       " 'youre': 11329,\n",
       " 'Sir': 3690,\n",
       " 'Waiting': 4259,\n",
       " 'mail': 7993,\n",
       " 'swt': 10273,\n",
       " 'Nver': 3025,\n",
       " 'tired': 10501,\n",
       " 'little': 7838,\n",
       " 'lovable': 7912,\n",
       " 'persons': 8817,\n",
       " 'Cozsomtimes': 1532,\n",
       " 'occupy': 8535,\n",
       " 'biggest': 5035,\n",
       " 'Hearts': 2202,\n",
       " 'Gud': 2096,\n",
       " 'ni8': 8421,\n",
       " 'open': 8600,\n",
       " 'ya': 11279,\n",
       " 'dot': 6133,\n",
       " 'Whats': 4304,\n",
       " 'staff': 10034,\n",
       " 'taking': 10300,\n",
       " 'replied': 9347,\n",
       " 'Randy': 3375,\n",
       " 'sexy': 9676,\n",
       " 'female': 6527,\n",
       " 'local': 7854,\n",
       " 'Luv': 2680,\n",
       " 'Netcollex': 2962,\n",
       " ...}"
      ]
     },
     "execution_count": 135,
     "metadata": {},
     "output_type": "execute_result"
    }
   ],
   "source": [
    "bowExt.vocabulary_"
   ]
  },
  {
   "cell_type": "code",
   "execution_count": 136,
   "metadata": {},
   "outputs": [
    {
     "name": "stdout",
     "output_type": "stream",
     "text": [
      "WINNER!! As a valued network customer you have been selected to receivea £900 prize reward! To claim call 09061701461. Claim code KL341. Valid 12 hours only.\n"
     ]
    }
   ],
   "source": [
    "message4 = df['Message'][8]\n",
    "print(message4)"
   ]
  },
  {
   "cell_type": "code",
   "execution_count": 137,
   "metadata": {},
   "outputs": [],
   "source": [
    "mat=bowExt.transform([message4])"
   ]
  },
  {
   "cell_type": "code",
   "execution_count": 138,
   "metadata": {},
   "outputs": [
    {
     "name": "stdout",
     "output_type": "stream",
     "text": [
      "  (0, 219)\t1\n",
      "  (0, 326)\t1\n",
      "  (0, 1485)\t1\n",
      "  (0, 2477)\t1\n",
      "  (0, 4161)\t1\n",
      "  (0, 4221)\t1\n",
      "  (0, 5275)\t1\n",
      "  (0, 5519)\t1\n",
      "  (0, 5574)\t1\n",
      "  (0, 5820)\t1\n",
      "  (0, 7201)\t1\n",
      "  (0, 8406)\t1\n",
      "  (0, 9058)\t1\n",
      "  (0, 9253)\t1\n",
      "  (0, 9413)\t1\n",
      "  (0, 9628)\t1\n",
      "  (0, 10828)\t1\n",
      "  (0, 11412)\t1\n"
     ]
    }
   ],
   "source": [
    "print(mat)"
   ]
  },
  {
   "cell_type": "code",
   "execution_count": 139,
   "metadata": {},
   "outputs": [],
   "source": [
    "message_transform = bowExt.transform(df['Message'])"
   ]
  },
  {
   "cell_type": "code",
   "execution_count": 140,
   "metadata": {},
   "outputs": [
    {
     "name": "stdout",
     "output_type": "stream",
     "text": [
      "  (0, 1110)\t1\n",
      "  (0, 1483)\t1\n",
      "  (0, 2060)\t1\n",
      "  (0, 4653)\t1\n",
      "  (0, 5217)\t1\n",
      "  (0, 5218)\t1\n",
      "  (0, 5769)\t1\n",
      "  (0, 6217)\t1\n",
      "  (0, 6906)\t1\n",
      "  (0, 6937)\t1\n",
      "  (0, 7555)\t1\n",
      "  (0, 7668)\t1\n",
      "  (0, 8336)\t1\n",
      "  (0, 8917)\t1\n",
      "  (0, 10965)\t1\n",
      "  (0, 11163)\t1\n",
      "  (1, 2451)\t1\n",
      "  (1, 3064)\t1\n",
      "  (1, 7701)\t1\n",
      "  (1, 8590)\t1\n",
      "  (1, 10698)\t1\n",
      "  (1, 11072)\t1\n",
      "  (2, 73)\t1\n",
      "  (2, 423)\t1\n",
      "  (2, 430)\t1\n",
      "  :\t:\n",
      "  (5568, 6691)\t1\n",
      "  (5568, 6882)\t1\n",
      "  (5568, 7159)\t1\n",
      "  (5568, 11418)\t1\n",
      "  (5569, 3228)\t1\n",
      "  (5569, 3721)\t1\n",
      "  (5569, 8252)\t1\n",
      "  (5569, 10199)\t1\n",
      "  (5570, 4508)\t1\n",
      "  (5570, 5055)\t1\n",
      "  (5570, 5251)\t1\n",
      "  (5570, 6282)\t1\n",
      "  (5570, 6699)\t1\n",
      "  (5570, 6799)\t1\n",
      "  (5570, 6984)\t1\n",
      "  (5570, 7287)\t1\n",
      "  (5570, 7394)\t1\n",
      "  (5570, 7800)\t1\n",
      "  (5570, 8420)\t1\n",
      "  (5570, 9915)\t1\n",
      "  (5570, 10787)\t1\n",
      "  (5570, 11006)\t1\n",
      "  (5571, 3431)\t1\n",
      "  (5571, 8348)\t1\n",
      "  (5571, 10648)\t1\n"
     ]
    }
   ],
   "source": [
    "print(message_transform)"
   ]
  },
  {
   "cell_type": "code",
   "execution_count": null,
   "metadata": {},
   "outputs": [],
   "source": []
  },
  {
   "cell_type": "code",
   "execution_count": null,
   "metadata": {},
   "outputs": [],
   "source": []
  },
  {
   "cell_type": "code",
   "execution_count": null,
   "metadata": {},
   "outputs": [],
   "source": []
  },
  {
   "cell_type": "code",
   "execution_count": null,
   "metadata": {},
   "outputs": [],
   "source": []
  },
  {
   "cell_type": "code",
   "execution_count": null,
   "metadata": {},
   "outputs": [],
   "source": []
  },
  {
   "cell_type": "code",
   "execution_count": null,
   "metadata": {},
   "outputs": [],
   "source": []
  },
  {
   "cell_type": "code",
   "execution_count": null,
   "metadata": {},
   "outputs": [],
   "source": []
  },
  {
   "cell_type": "code",
   "execution_count": null,
   "metadata": {},
   "outputs": [],
   "source": []
  },
  {
   "cell_type": "code",
   "execution_count": null,
   "metadata": {},
   "outputs": [],
   "source": []
  },
  {
   "cell_type": "code",
   "execution_count": null,
   "metadata": {},
   "outputs": [],
   "source": []
  },
  {
   "cell_type": "code",
   "execution_count": null,
   "metadata": {},
   "outputs": [],
   "source": []
  },
  {
   "cell_type": "code",
   "execution_count": null,
   "metadata": {},
   "outputs": [],
   "source": []
  },
  {
   "cell_type": "code",
   "execution_count": null,
   "metadata": {},
   "outputs": [],
   "source": []
  },
  {
   "cell_type": "code",
   "execution_count": null,
   "metadata": {},
   "outputs": [],
   "source": []
  },
  {
   "cell_type": "code",
   "execution_count": null,
   "metadata": {},
   "outputs": [],
   "source": []
  },
  {
   "cell_type": "code",
   "execution_count": null,
   "metadata": {},
   "outputs": [],
   "source": []
  },
  {
   "cell_type": "code",
   "execution_count": null,
   "metadata": {},
   "outputs": [],
   "source": []
  },
  {
   "cell_type": "code",
   "execution_count": null,
   "metadata": {},
   "outputs": [],
   "source": []
  },
  {
   "cell_type": "code",
   "execution_count": null,
   "metadata": {},
   "outputs": [],
   "source": []
  },
  {
   "cell_type": "code",
   "execution_count": null,
   "metadata": {},
   "outputs": [],
   "source": []
  },
  {
   "cell_type": "code",
   "execution_count": null,
   "metadata": {},
   "outputs": [],
   "source": []
  },
  {
   "cell_type": "code",
   "execution_count": null,
   "metadata": {},
   "outputs": [],
   "source": []
  },
  {
   "cell_type": "code",
   "execution_count": null,
   "metadata": {},
   "outputs": [],
   "source": []
  },
  {
   "cell_type": "code",
   "execution_count": null,
   "metadata": {},
   "outputs": [],
   "source": []
  },
  {
   "cell_type": "markdown",
   "metadata": {},
   "source": [
    "Very interesting! Through just basic EDA we've been able to discover a trend that spam messages tend to have more characters. (Sorry Romeo!)\n",
    "\n",
    "Now let's begin to process the data so we can eventually use it with SciKit Learn!"
   ]
  },
  {
   "cell_type": "markdown",
   "metadata": {},
   "source": [
    "## Text Pre-processing"
   ]
  },
  {
   "cell_type": "markdown",
   "metadata": {},
   "source": [
    "Our main issue with our data is that it is all in text format (strings). The classification algorithms that we've learned about so far will need some sort of numerical feature vector in order to perform the classification task. There are actually many methods to convert a corpus to a vector format. The simplest is the the [bag-of-words](http://en.wikipedia.org/wiki/Bag-of-words_model) approach, where each unique word in a text will be represented by one number.\n",
    "\n",
    "\n",
    "In this section we'll convert the raw messages (sequence of characters) into vectors (sequences of numbers).\n",
    "\n",
    "As a first step, let's write a function that will split a message into its individual words and return a list. We'll also remove very common words, ('the', 'a', etc..). To do this we will take advantage of the NLTK library. It's pretty much the standard library in Python for processing text and has a lot of useful features. We'll only use some of the basic ones here.\n",
    "\n",
    "Let's create a function that will process the string in the message column, then we can just use **apply()** in pandas do process all the text in the DataFrame.\n",
    "\n",
    "First removing punctuation. We can just take advantage of Python's built-in **string** library to get a quick list of all the possible punctuation:"
   ]
  },
  {
   "cell_type": "code",
   "execution_count": 19,
   "metadata": {},
   "outputs": [],
   "source": [
    "import string\n",
    "\n",
    "mess = 'Sample message! Notice: it has punctuation.'\n",
    "\n",
    "# Check characters to see if they are in punctuation\n",
    "nopunc = [char for char in mess if char not in string.punctuation]\n",
    "\n",
    "# Join the characters again to form the string.\n",
    "nopunc = ''.join(nopunc)"
   ]
  },
  {
   "cell_type": "markdown",
   "metadata": {},
   "source": [
    "Now let's see how to remove stopwords. We can impot a list of english stopwords from NLTK (check the documentation for more languages and info)."
   ]
  },
  {
   "cell_type": "code",
   "execution_count": 20,
   "metadata": {},
   "outputs": [
    {
     "data": {
      "text/plain": [
       "['i', 'me', 'my', 'myself', 'we', 'our', 'ours', 'ourselves', 'you', 'your']"
      ]
     },
     "execution_count": 20,
     "metadata": {},
     "output_type": "execute_result"
    }
   ],
   "source": [
    "from nltk.corpus import stopwords\n",
    "stopwords.words('english')[0:10] # Show some stop words"
   ]
  },
  {
   "cell_type": "code",
   "execution_count": 21,
   "metadata": {},
   "outputs": [
    {
     "data": {
      "text/plain": [
       "['Sample', 'message', 'Notice', 'it', 'has', 'punctuation']"
      ]
     },
     "execution_count": 21,
     "metadata": {},
     "output_type": "execute_result"
    }
   ],
   "source": [
    "nopunc.split()"
   ]
  },
  {
   "cell_type": "code",
   "execution_count": 22,
   "metadata": {
    "collapsed": true
   },
   "outputs": [],
   "source": [
    "# Now just remove any stopwords\n",
    "clean_mess = [word for word in nopunc.split() if word.lower() not in stopwords.words('english')]"
   ]
  },
  {
   "cell_type": "code",
   "execution_count": 23,
   "metadata": {},
   "outputs": [
    {
     "data": {
      "text/plain": [
       "['Sample', 'message', 'Notice', 'punctuation']"
      ]
     },
     "execution_count": 23,
     "metadata": {},
     "output_type": "execute_result"
    }
   ],
   "source": [
    "clean_mess"
   ]
  },
  {
   "cell_type": "markdown",
   "metadata": {},
   "source": [
    "Now let's put both of these together in a function to apply it to our DataFrame later on:"
   ]
  },
  {
   "cell_type": "code",
   "execution_count": 24,
   "metadata": {
    "collapsed": true
   },
   "outputs": [],
   "source": [
    "def text_process(mess):\n",
    "    \"\"\"\n",
    "    Takes in a string of text, then performs the following:\n",
    "    1. Remove all punctuation\n",
    "    2. Remove all stopwords\n",
    "    3. Returns a list of the cleaned text\n",
    "    \"\"\"\n",
    "    # Check characters to see if they are in punctuation\n",
    "    nopunc = [char for char in mess if char not in string.punctuation]\n",
    "\n",
    "    # Join the characters again to form the string.\n",
    "    nopunc = ''.join(nopunc)\n",
    "    \n",
    "    # Now just remove any stopwords\n",
    "    return [word for word in nopunc.split() if word.lower() not in stopwords.words('english')]"
   ]
  },
  {
   "cell_type": "markdown",
   "metadata": {},
   "source": [
    "Here is the original DataFrame again:"
   ]
  },
  {
   "cell_type": "code",
   "execution_count": 25,
   "metadata": {},
   "outputs": [
    {
     "data": {
      "text/html": [
       "<div>\n",
       "<table border=\"1\" class=\"dataframe\">\n",
       "  <thead>\n",
       "    <tr style=\"text-align: right;\">\n",
       "      <th></th>\n",
       "      <th>label</th>\n",
       "      <th>message</th>\n",
       "      <th>length</th>\n",
       "    </tr>\n",
       "  </thead>\n",
       "  <tbody>\n",
       "    <tr>\n",
       "      <th>0</th>\n",
       "      <td>ham</td>\n",
       "      <td>Go until jurong point, crazy.. Available only ...</td>\n",
       "      <td>111</td>\n",
       "    </tr>\n",
       "    <tr>\n",
       "      <th>1</th>\n",
       "      <td>ham</td>\n",
       "      <td>Ok lar... Joking wif u oni...</td>\n",
       "      <td>29</td>\n",
       "    </tr>\n",
       "    <tr>\n",
       "      <th>2</th>\n",
       "      <td>spam</td>\n",
       "      <td>Free entry in 2 a wkly comp to win FA Cup fina...</td>\n",
       "      <td>155</td>\n",
       "    </tr>\n",
       "    <tr>\n",
       "      <th>3</th>\n",
       "      <td>ham</td>\n",
       "      <td>U dun say so early hor... U c already then say...</td>\n",
       "      <td>49</td>\n",
       "    </tr>\n",
       "    <tr>\n",
       "      <th>4</th>\n",
       "      <td>ham</td>\n",
       "      <td>Nah I don't think he goes to usf, he lives aro...</td>\n",
       "      <td>61</td>\n",
       "    </tr>\n",
       "  </tbody>\n",
       "</table>\n",
       "</div>"
      ],
      "text/plain": [
       "  label                                            message  length\n",
       "0   ham  Go until jurong point, crazy.. Available only ...     111\n",
       "1   ham                      Ok lar... Joking wif u oni...      29\n",
       "2  spam  Free entry in 2 a wkly comp to win FA Cup fina...     155\n",
       "3   ham  U dun say so early hor... U c already then say...      49\n",
       "4   ham  Nah I don't think he goes to usf, he lives aro...      61"
      ]
     },
     "execution_count": 25,
     "metadata": {},
     "output_type": "execute_result"
    }
   ],
   "source": [
    "messages.head()"
   ]
  },
  {
   "cell_type": "markdown",
   "metadata": {},
   "source": [
    "Now let's \"tokenize\" these messages. Tokenization is just the term used to describe the process of converting the normal text strings in to a list of tokens (words that we actually want).\n",
    "\n",
    "Let's see an example output on on column:\n",
    "\n",
    "**Note:**\n",
    "We may get some warnings or errors for symbols we didn't account for or that weren't in Unicode (like a British pound symbol)"
   ]
  },
  {
   "cell_type": "code",
   "execution_count": 26,
   "metadata": {},
   "outputs": [
    {
     "data": {
      "text/plain": [
       "0    [Go, jurong, point, crazy, Available, bugis, n...\n",
       "1                       [Ok, lar, Joking, wif, u, oni]\n",
       "2    [Free, entry, 2, wkly, comp, win, FA, Cup, fin...\n",
       "3        [U, dun, say, early, hor, U, c, already, say]\n",
       "4    [Nah, dont, think, goes, usf, lives, around, t...\n",
       "Name: message, dtype: object"
      ]
     },
     "execution_count": 26,
     "metadata": {},
     "output_type": "execute_result"
    }
   ],
   "source": [
    "# Check to make sure its working\n",
    "messages['message'].head(5).apply(text_process)"
   ]
  },
  {
   "cell_type": "code",
   "execution_count": 27,
   "metadata": {},
   "outputs": [
    {
     "data": {
      "text/html": [
       "<div>\n",
       "<table border=\"1\" class=\"dataframe\">\n",
       "  <thead>\n",
       "    <tr style=\"text-align: right;\">\n",
       "      <th></th>\n",
       "      <th>label</th>\n",
       "      <th>message</th>\n",
       "      <th>length</th>\n",
       "    </tr>\n",
       "  </thead>\n",
       "  <tbody>\n",
       "    <tr>\n",
       "      <th>0</th>\n",
       "      <td>ham</td>\n",
       "      <td>Go until jurong point, crazy.. Available only ...</td>\n",
       "      <td>111</td>\n",
       "    </tr>\n",
       "    <tr>\n",
       "      <th>1</th>\n",
       "      <td>ham</td>\n",
       "      <td>Ok lar... Joking wif u oni...</td>\n",
       "      <td>29</td>\n",
       "    </tr>\n",
       "    <tr>\n",
       "      <th>2</th>\n",
       "      <td>spam</td>\n",
       "      <td>Free entry in 2 a wkly comp to win FA Cup fina...</td>\n",
       "      <td>155</td>\n",
       "    </tr>\n",
       "    <tr>\n",
       "      <th>3</th>\n",
       "      <td>ham</td>\n",
       "      <td>U dun say so early hor... U c already then say...</td>\n",
       "      <td>49</td>\n",
       "    </tr>\n",
       "    <tr>\n",
       "      <th>4</th>\n",
       "      <td>ham</td>\n",
       "      <td>Nah I don't think he goes to usf, he lives aro...</td>\n",
       "      <td>61</td>\n",
       "    </tr>\n",
       "  </tbody>\n",
       "</table>\n",
       "</div>"
      ],
      "text/plain": [
       "  label                                            message  length\n",
       "0   ham  Go until jurong point, crazy.. Available only ...     111\n",
       "1   ham                      Ok lar... Joking wif u oni...      29\n",
       "2  spam  Free entry in 2 a wkly comp to win FA Cup fina...     155\n",
       "3   ham  U dun say so early hor... U c already then say...      49\n",
       "4   ham  Nah I don't think he goes to usf, he lives aro...      61"
      ]
     },
     "execution_count": 27,
     "metadata": {},
     "output_type": "execute_result"
    }
   ],
   "source": [
    "# Show original dataframe\n",
    "messages.head()"
   ]
  },
  {
   "cell_type": "markdown",
   "metadata": {},
   "source": [
    "### Continuing Normalization\n",
    "\n",
    "There are a lot of ways to continue normalizing this text. Such as [Stemming](https://en.wikipedia.org/wiki/Stemming) or distinguishing by [part of speech](http://www.nltk.org/book/ch05.html).\n",
    "\n",
    "NLTK has lots of built-in tools and great documentation on a lot of these methods. Sometimes they don't work well for text-messages due to the way a lot of people tend to use abbreviations or shorthand, For example:\n",
    "    \n",
    "    'Nah dawg, IDK! Wut time u headin to da club?'\n",
    "    \n",
    "versus\n",
    "\n",
    "    'No dog, I don't know! What time are you heading to the club?'\n",
    "    \n",
    "Some text normalization methods will have trouble with this type of shorthand and so I'll leave you to explore those more advanced methods through the [NLTK book online](http://www.nltk.org/book/).\n",
    "\n",
    "For now we will just focus on using what we have to convert our list of words to an actual vector that SciKit-Learn can use."
   ]
  },
  {
   "cell_type": "markdown",
   "metadata": {},
   "source": [
    "## Vectorization"
   ]
  },
  {
   "cell_type": "markdown",
   "metadata": {},
   "source": [
    "Currently, we have the messages as lists of tokens (also known as [lemmas](http://nlp.stanford.edu/IR-book/html/htmledition/stemming-and-lemmatization-1.html)) and now we need to convert each of those messages into a vector the SciKit Learn's algorithm models can work with.\n",
    "\n",
    "Now we'll convert each message, represented as a list of tokens (lemmas) above, into a vector that machine learning models can understand.\n",
    "\n",
    "We'll do that in three steps using the bag-of-words model:\n",
    "\n",
    "1. Count how many times does a word occur in each message (Known as term frequency)\n",
    "\n",
    "2. Weigh the counts, so that frequent tokens get lower weight (inverse document frequency)\n",
    "\n",
    "3. Normalize the vectors to unit length, to abstract from the original text length (L2 norm)\n",
    "\n",
    "Let's begin the first step:"
   ]
  },
  {
   "cell_type": "markdown",
   "metadata": {},
   "source": [
    "Each vector will have as many dimensions as there are unique words in the SMS corpus.  We will first use SciKit Learn's **CountVectorizer**. This model will convert a collection of text documents to a matrix of token counts.\n",
    "\n",
    "We can imagine this as a 2-Dimensional matrix. Where the 1-dimension is the entire vocabulary (1 row per word) and the other dimension are the actual documents, in this case a column per text message. \n",
    "\n",
    "For example:\n",
    "\n",
    "<table border = “1“>\n",
    "<tr>\n",
    "<th></th> <th>Message 1</th> <th>Message 2</th> <th>...</th> <th>Message N</th> \n",
    "</tr>\n",
    "<tr>\n",
    "<td><b>Word 1 Count</b></td><td>0</td><td>1</td><td>...</td><td>0</td>\n",
    "</tr>\n",
    "<tr>\n",
    "<td><b>Word 2 Count</b></td><td>0</td><td>0</td><td>...</td><td>0</td>\n",
    "</tr>\n",
    "<tr>\n",
    "<td><b>...</b></td> <td>1</td><td>2</td><td>...</td><td>0</td>\n",
    "</tr>\n",
    "<tr>\n",
    "<td><b>Word N Count</b></td> <td>0</td><td>1</td><td>...</td><td>1</td>\n",
    "</tr>\n",
    "</table>\n",
    "\n",
    "\n",
    "Since there are so many messages, we can expect a lot of zero counts for the presence of that word in that document. Because of this, SciKit Learn will output a [Sparse Matrix](https://en.wikipedia.org/wiki/Sparse_matrix)."
   ]
  },
  {
   "cell_type": "code",
   "execution_count": 28,
   "metadata": {},
   "outputs": [],
   "source": [
    "from sklearn.feature_extraction.text import CountVectorizer"
   ]
  },
  {
   "cell_type": "markdown",
   "metadata": {},
   "source": [
    "There are a lot of arguments and parameters that can be passed to the CountVectorizer. In this case we will just specify the **analyzer** to be our own previously defined function:"
   ]
  },
  {
   "cell_type": "code",
   "execution_count": 31,
   "metadata": {},
   "outputs": [
    {
     "name": "stdout",
     "output_type": "stream",
     "text": [
      "11444\n"
     ]
    }
   ],
   "source": [
    "# Might take awhile...\n",
    "bow_transformer = CountVectorizer(analyzer=text_process).fit(messages['message'])\n",
    "\n",
    "# Print total number of vocab words\n",
    "print(len(bow_transformer.vocabulary_))"
   ]
  },
  {
   "cell_type": "markdown",
   "metadata": {},
   "source": [
    "Let's take one text message and get its bag-of-words counts as a vector, putting to use our new `bow_transformer`:"
   ]
  },
  {
   "cell_type": "code",
   "execution_count": 32,
   "metadata": {},
   "outputs": [
    {
     "name": "stdout",
     "output_type": "stream",
     "text": [
      "U dun say so early hor... U c already then say...\n"
     ]
    }
   ],
   "source": [
    "message4 = messages['message'][3]\n",
    "print(message4)"
   ]
  },
  {
   "cell_type": "markdown",
   "metadata": {},
   "source": [
    "Now let's see its vector representation:"
   ]
  },
  {
   "cell_type": "code",
   "execution_count": 142,
   "metadata": {},
   "outputs": [
    {
     "name": "stdout",
     "output_type": "stream",
     "text": [
      "  (0, 219)\t1\n",
      "  (0, 326)\t1\n",
      "  (0, 1485)\t1\n",
      "  (0, 2477)\t1\n",
      "  (0, 4161)\t1\n",
      "  (0, 4221)\t1\n",
      "  (0, 5275)\t1\n",
      "  (0, 5519)\t1\n",
      "  (0, 5574)\t1\n",
      "  (0, 5820)\t1\n",
      "  (0, 7201)\t1\n",
      "  (0, 8406)\t1\n",
      "  (0, 9058)\t1\n",
      "  (0, 9253)\t1\n",
      "  (0, 9413)\t1\n",
      "  (0, 9628)\t1\n",
      "  (0, 10828)\t1\n",
      "  (0, 11412)\t1\n",
      "(1, 11425)\n"
     ]
    }
   ],
   "source": [
    "bow4 = bowExt.transform([message4])\n",
    "print(bow4)\n",
    "print(bow4.shape)"
   ]
  },
  {
   "cell_type": "code",
   "execution_count": 143,
   "metadata": {},
   "outputs": [],
   "source": [
    "sparsity = (100* message_transform.nnz /(message_transform.shape[0]*message_transform.shape[1]))"
   ]
  },
  {
   "cell_type": "code",
   "execution_count": 145,
   "metadata": {},
   "outputs": [
    {
     "data": {
      "text/plain": [
       "0.07940295412668218"
      ]
     },
     "execution_count": 145,
     "metadata": {},
     "output_type": "execute_result"
    }
   ],
   "source": [
    "sparsity"
   ]
  },
  {
   "cell_type": "code",
   "execution_count": 148,
   "metadata": {},
   "outputs": [],
   "source": [
    "from sklearn.model_selection import train_test_split\n"
   ]
  },
  {
   "cell_type": "code",
   "execution_count": 149,
   "metadata": {},
   "outputs": [
    {
     "data": {
      "text/html": [
       "<div>\n",
       "<style scoped>\n",
       "    .dataframe tbody tr th:only-of-type {\n",
       "        vertical-align: middle;\n",
       "    }\n",
       "\n",
       "    .dataframe tbody tr th {\n",
       "        vertical-align: top;\n",
       "    }\n",
       "\n",
       "    .dataframe thead th {\n",
       "        text-align: right;\n",
       "    }\n",
       "</style>\n",
       "<table border=\"1\" class=\"dataframe\">\n",
       "  <thead>\n",
       "    <tr style=\"text-align: right;\">\n",
       "      <th></th>\n",
       "      <th>labels</th>\n",
       "      <th>Message</th>\n",
       "      <th>length</th>\n",
       "    </tr>\n",
       "  </thead>\n",
       "  <tbody>\n",
       "    <tr>\n",
       "      <th>0</th>\n",
       "      <td>ham</td>\n",
       "      <td>Go until jurong point, crazy.. Available only ...</td>\n",
       "      <td>111</td>\n",
       "    </tr>\n",
       "    <tr>\n",
       "      <th>1</th>\n",
       "      <td>ham</td>\n",
       "      <td>Ok lar... Joking wif u oni...</td>\n",
       "      <td>29</td>\n",
       "    </tr>\n",
       "    <tr>\n",
       "      <th>2</th>\n",
       "      <td>spam</td>\n",
       "      <td>Free entry in 2 a wkly comp to win FA Cup fina...</td>\n",
       "      <td>155</td>\n",
       "    </tr>\n",
       "    <tr>\n",
       "      <th>3</th>\n",
       "      <td>ham</td>\n",
       "      <td>U dun say so early hor... U c already then say...</td>\n",
       "      <td>49</td>\n",
       "    </tr>\n",
       "    <tr>\n",
       "      <th>4</th>\n",
       "      <td>ham</td>\n",
       "      <td>Nah I don't think he goes to usf, he lives aro...</td>\n",
       "      <td>61</td>\n",
       "    </tr>\n",
       "  </tbody>\n",
       "</table>\n",
       "</div>"
      ],
      "text/plain": [
       "  labels                                            Message  length\n",
       "0    ham  Go until jurong point, crazy.. Available only ...     111\n",
       "1    ham                      Ok lar... Joking wif u oni...      29\n",
       "2   spam  Free entry in 2 a wkly comp to win FA Cup fina...     155\n",
       "3    ham  U dun say so early hor... U c already then say...      49\n",
       "4    ham  Nah I don't think he goes to usf, he lives aro...      61"
      ]
     },
     "execution_count": 149,
     "metadata": {},
     "output_type": "execute_result"
    }
   ],
   "source": [
    "df.head()"
   ]
  },
  {
   "cell_type": "code",
   "execution_count": 150,
   "metadata": {},
   "outputs": [],
   "source": [
    " X_train, X_test, y_train, y_test = train_test_split(df['Message'], df['labels'], test_size=0.33, random_state=42)"
   ]
  },
  {
   "cell_type": "code",
   "execution_count": 163,
   "metadata": {},
   "outputs": [],
   "source": [
    "from sklearn.feature_extraction.text import TfidfTransformer"
   ]
  },
  {
   "cell_type": "code",
   "execution_count": 165,
   "metadata": {},
   "outputs": [],
   "source": [
    "bowExt = CountVectorizer(analyzer=textCleaner).fit(X_train)"
   ]
  },
  {
   "cell_type": "code",
   "execution_count": null,
   "metadata": {},
   "outputs": [],
   "source": []
  },
  {
   "cell_type": "code",
   "execution_count": null,
   "metadata": {},
   "outputs": [],
   "source": []
  },
  {
   "cell_type": "code",
   "execution_count": 166,
   "metadata": {},
   "outputs": [],
   "source": [
    "message_transform= bowExt.transform(X_train)"
   ]
  },
  {
   "cell_type": "code",
   "execution_count": null,
   "metadata": {},
   "outputs": [],
   "source": []
  },
  {
   "cell_type": "code",
   "execution_count": null,
   "metadata": {},
   "outputs": [],
   "source": []
  },
  {
   "cell_type": "code",
   "execution_count": 167,
   "metadata": {},
   "outputs": [],
   "source": [
    "tfTa = TfidfTransformer().fit(message_transform)"
   ]
  },
  {
   "cell_type": "code",
   "execution_count": null,
   "metadata": {},
   "outputs": [],
   "source": []
  },
  {
   "cell_type": "code",
   "execution_count": 168,
   "metadata": {},
   "outputs": [],
   "source": [
    "variablea= tfTa.transform(message_transform)"
   ]
  },
  {
   "cell_type": "code",
   "execution_count": null,
   "metadata": {},
   "outputs": [],
   "source": []
  },
  {
   "cell_type": "code",
   "execution_count": 169,
   "metadata": {},
   "outputs": [
    {
     "name": "stdout",
     "output_type": "stream",
     "text": [
      "  (0, 9123)\t0.47239663658979036\n",
      "  (0, 4458)\t0.6782851611547811\n",
      "  (0, 3543)\t0.5628238249184963\n",
      "  (1, 8306)\t0.20494033090980177\n",
      "  (1, 8302)\t0.1428635581446033\n",
      "  (1, 7924)\t0.25611276929955257\n",
      "  (1, 7695)\t0.16618809016450217\n",
      "  (1, 7653)\t0.25611276929955257\n",
      "  (1, 7632)\t0.24394168175980085\n",
      "  (1, 7627)\t0.25611276929955257\n",
      "  (1, 7626)\t0.19015737106558378\n",
      "  (1, 7459)\t0.24394168175980085\n",
      "  (1, 6851)\t0.2144995461450873\n",
      "  (1, 6850)\t0.1399086238736376\n",
      "  (1, 6832)\t0.25611276929955257\n",
      "  (1, 6186)\t0.21850783745410043\n",
      "  (1, 5984)\t0.23530615772231994\n",
      "  (1, 5103)\t0.23530615772231994\n",
      "  (1, 4551)\t0.20494033090980177\n",
      "  (1, 3765)\t0.25611276929955257\n",
      "  (1, 3761)\t0.25611276929955257\n",
      "  (1, 3689)\t0.17196263179281737\n",
      "  (1, 1208)\t0.25611276929955257\n",
      "  (2, 7216)\t0.5773502691896257\n",
      "  (2, 6395)\t0.5773502691896257\n",
      "  :\t:\n",
      "  (3728, 7905)\t0.2610249291699065\n",
      "  (3728, 6766)\t0.3159607072612659\n",
      "  (3728, 6630)\t0.24157342900776865\n",
      "  (3728, 6228)\t0.40931244289262836\n",
      "  (3728, 5498)\t0.2061883720078118\n",
      "  (3728, 4959)\t0.40931244289262836\n",
      "  (3728, 3885)\t0.22460814848774577\n",
      "  (3728, 1771)\t0.24614577306609547\n",
      "  (3729, 6143)\t0.5268531090652271\n",
      "  (3729, 4191)\t0.41577526886216976\n",
      "  (3729, 2989)\t0.5482540201215078\n",
      "  (3729, 1870)\t0.4989732023781434\n",
      "  (3730, 7933)\t0.502908218199264\n",
      "  (3730, 7932)\t0.502908218199264\n",
      "  (3730, 5808)\t0.31071664704065244\n",
      "  (3730, 5625)\t0.3804012847700953\n",
      "  (3730, 2616)\t0.502908218199264\n",
      "  (3731, 8389)\t0.38199115936574934\n",
      "  (3731, 7702)\t0.5081783011761342\n",
      "  (3731, 5989)\t0.535897308252684\n",
      "  (3731, 2418)\t0.555564256758547\n",
      "  (3732, 8205)\t0.5264167006389268\n",
      "  (3732, 7900)\t0.5060439099862544\n",
      "  (3732, 7612)\t0.3682403278660678\n",
      "  (3732, 6663)\t0.5755033269993678\n"
     ]
    }
   ],
   "source": [
    "print(variablea)"
   ]
  },
  {
   "cell_type": "code",
   "execution_count": 158,
   "metadata": {},
   "outputs": [],
   "source": [
    "from sklearn.naive_bayes import MultinomialNB"
   ]
  },
  {
   "cell_type": "code",
   "execution_count": 170,
   "metadata": {},
   "outputs": [],
   "source": [
    "nb =MultinomialNB()"
   ]
  },
  {
   "cell_type": "code",
   "execution_count": 171,
   "metadata": {},
   "outputs": [
    {
     "data": {
      "text/plain": [
       "MultinomialNB()"
      ]
     },
     "execution_count": 171,
     "metadata": {},
     "output_type": "execute_result"
    }
   ],
   "source": [
    "nb.fit(variablea,y_train)"
   ]
  },
  {
   "cell_type": "code",
   "execution_count": 172,
   "metadata": {},
   "outputs": [
    {
     "data": {
      "text/plain": [
       "array(['ham', 'ham', 'ham', ..., 'ham', 'ham', 'ham'], dtype='<U4')"
      ]
     },
     "execution_count": 172,
     "metadata": {},
     "output_type": "execute_result"
    }
   ],
   "source": [
    "nb.predict(variablea)"
   ]
  },
  {
   "cell_type": "code",
   "execution_count": 173,
   "metadata": {},
   "outputs": [],
   "source": [
    "from sklearn.pipeline import Pipeline"
   ]
  },
  {
   "cell_type": "code",
   "execution_count": 174,
   "metadata": {},
   "outputs": [],
   "source": [
    "pipeline = Pipeline([\n",
    "        ('msg',CountVectorizer(analyzer=textCleaner)),\n",
    "        ('bow',TfidfTransformer()),\n",
    "        ('ana',MultinomialNB())\n",
    "])"
   ]
  },
  {
   "cell_type": "code",
   "execution_count": 175,
   "metadata": {},
   "outputs": [
    {
     "data": {
      "text/plain": [
       "Pipeline(steps=[('msg',\n",
       "                 CountVectorizer(analyzer=<function textCleaner at 0x000001C91AF0CC10>)),\n",
       "                ('bow', TfidfTransformer()), ('ana', MultinomialNB())])"
      ]
     },
     "execution_count": 175,
     "metadata": {},
     "output_type": "execute_result"
    }
   ],
   "source": [
    "pipeline.fit(X_train,y_train)"
   ]
  },
  {
   "cell_type": "code",
   "execution_count": 177,
   "metadata": {},
   "outputs": [],
   "source": [
    "temp=pipeline.predict(X_test)"
   ]
  },
  {
   "cell_type": "code",
   "execution_count": 178,
   "metadata": {},
   "outputs": [],
   "source": [
    "from sklearn.metrics import confusion_matrix,classification_report\n"
   ]
  },
  {
   "cell_type": "code",
   "execution_count": 179,
   "metadata": {},
   "outputs": [
    {
     "name": "stdout",
     "output_type": "stream",
     "text": [
      "[[1593   65]\n",
      " [   0  181]]\n"
     ]
    }
   ],
   "source": [
    "print(confusion_matrix(temp,y_test))"
   ]
  },
  {
   "cell_type": "code",
   "execution_count": 180,
   "metadata": {},
   "outputs": [
    {
     "name": "stdout",
     "output_type": "stream",
     "text": [
      "              precision    recall  f1-score   support\n",
      "\n",
      "         ham       1.00      0.96      0.98      1658\n",
      "        spam       0.74      1.00      0.85       181\n",
      "\n",
      "    accuracy                           0.96      1839\n",
      "   macro avg       0.87      0.98      0.91      1839\n",
      "weighted avg       0.97      0.96      0.97      1839\n",
      "\n"
     ]
    }
   ],
   "source": [
    "print(classification_report(temp,y_test))"
   ]
  },
  {
   "cell_type": "code",
   "execution_count": null,
   "metadata": {},
   "outputs": [],
   "source": []
  },
  {
   "cell_type": "code",
   "execution_count": null,
   "metadata": {},
   "outputs": [],
   "source": []
  },
  {
   "cell_type": "code",
   "execution_count": null,
   "metadata": {},
   "outputs": [],
   "source": []
  },
  {
   "cell_type": "code",
   "execution_count": null,
   "metadata": {},
   "outputs": [],
   "source": []
  },
  {
   "cell_type": "code",
   "execution_count": null,
   "metadata": {},
   "outputs": [],
   "source": []
  },
  {
   "cell_type": "code",
   "execution_count": null,
   "metadata": {},
   "outputs": [],
   "source": []
  },
  {
   "cell_type": "code",
   "execution_count": null,
   "metadata": {},
   "outputs": [],
   "source": []
  },
  {
   "cell_type": "code",
   "execution_count": null,
   "metadata": {},
   "outputs": [],
   "source": []
  },
  {
   "cell_type": "code",
   "execution_count": null,
   "metadata": {},
   "outputs": [],
   "source": []
  },
  {
   "cell_type": "markdown",
   "metadata": {},
   "source": [
    "This means that there are seven unique words in message number 4 (after removing common stop words). Two of them appear twice, the rest only once. Let's go ahead and check and confirm which ones appear twice:"
   ]
  },
  {
   "cell_type": "code",
   "execution_count": 36,
   "metadata": {},
   "outputs": [
    {
     "name": "stdout",
     "output_type": "stream",
     "text": [
      "U\n",
      "say\n"
     ]
    }
   ],
   "source": [
    "print(bow_transformer.get_feature_names()[4073])\n",
    "print(bow_transformer.get_feature_names()[9570])"
   ]
  },
  {
   "cell_type": "markdown",
   "metadata": {},
   "source": [
    "Now we can use **.transform** on our Bag-of-Words (bow) transformed object and transform the entire DataFrame of messages. Let's go ahead and check out how the bag-of-words counts for the entire SMS corpus is a large, sparse matrix:"
   ]
  },
  {
   "cell_type": "code",
   "execution_count": 39,
   "metadata": {
    "collapsed": true
   },
   "outputs": [],
   "source": [
    "messages_bow = bow_transformer.transform(messages['message'])"
   ]
  },
  {
   "cell_type": "code",
   "execution_count": 40,
   "metadata": {},
   "outputs": [
    {
     "name": "stdout",
     "output_type": "stream",
     "text": [
      "Shape of Sparse Matrix:  (5572, 11444)\n",
      "Amount of Non-Zero occurences:  50795\n"
     ]
    }
   ],
   "source": [
    "print('Shape of Sparse Matrix: ', messages_bow.shape)\n",
    "print('Amount of Non-Zero occurences: ', messages_bow.nnz)"
   ]
  },
  {
   "cell_type": "code",
   "execution_count": 46,
   "metadata": {},
   "outputs": [
    {
     "name": "stdout",
     "output_type": "stream",
     "text": [
      "sparsity: 0\n"
     ]
    }
   ],
   "source": [
    "sparsity = (100.0 * messages_bow.nnz / (messages_bow.shape[0] * messages_bow.shape[1]))\n",
    "print('sparsity: {}'.format(round(sparsity)))"
   ]
  },
  {
   "cell_type": "markdown",
   "metadata": {},
   "source": [
    "After the counting, the term weighting and normalization can be done with [TF-IDF](http://en.wikipedia.org/wiki/Tf%E2%80%93idf), using scikit-learn's `TfidfTransformer`.\n",
    "\n",
    "____\n",
    "### So what is TF-IDF?\n",
    "TF-IDF stands for *term frequency-inverse document frequency*, and the tf-idf weight is a weight often used in information retrieval and text mining. This weight is a statistical measure used to evaluate how important a word is to a document in a collection or corpus. The importance increases proportionally to the number of times a word appears in the document but is offset by the frequency of the word in the corpus. Variations of the tf-idf weighting scheme are often used by search engines as a central tool in scoring and ranking a document's relevance given a user query.\n",
    "\n",
    "One of the simplest ranking functions is computed by summing the tf-idf for each query term; many more sophisticated ranking functions are variants of this simple model.\n",
    "\n",
    "Typically, the tf-idf weight is composed by two terms: the first computes the normalized Term Frequency (TF), aka. the number of times a word appears in a document, divided by the total number of words in that document; the second term is the Inverse Document Frequency (IDF), computed as the logarithm of the number of the documents in the corpus divided by the number of documents where the specific term appears.\n",
    "\n",
    "**TF: Term Frequency**, which measures how frequently a term occurs in a document. Since every document is different in length, it is possible that a term would appear much more times in long documents than shorter ones. Thus, the term frequency is often divided by the document length (aka. the total number of terms in the document) as a way of normalization: \n",
    "\n",
    "*TF(t) = (Number of times term t appears in a document) / (Total number of terms in the document).*\n",
    "\n",
    "**IDF: Inverse Document Frequency**, which measures how important a term is. While computing TF, all terms are considered equally important. However it is known that certain terms, such as \"is\", \"of\", and \"that\", may appear a lot of times but have little importance. Thus we need to weigh down the frequent terms while scale up the rare ones, by computing the following: \n",
    "\n",
    "*IDF(t) = log_e(Total number of documents / Number of documents with term t in it).*\n",
    "\n",
    "See below for a simple example.\n",
    "\n",
    "**Example:**\n",
    "\n",
    "Consider a document containing 100 words wherein the word cat appears 3 times. \n",
    "\n",
    "The term frequency (i.e., tf) for cat is then (3 / 100) = 0.03. Now, assume we have 10 million documents and the word cat appears in one thousand of these. Then, the inverse document frequency (i.e., idf) is calculated as log(10,000,000 / 1,000) = 4. Thus, the Tf-idf weight is the product of these quantities: 0.03 * 4 = 0.12.\n",
    "____\n",
    "\n",
    "Let's go ahead and see how we can do this in SciKit Learn:"
   ]
  },
  {
   "cell_type": "code",
   "execution_count": 48,
   "metadata": {},
   "outputs": [
    {
     "name": "stdout",
     "output_type": "stream",
     "text": [
      "  (0, 9570)\t0.538562626293\n",
      "  (0, 7197)\t0.438936565338\n",
      "  (0, 6232)\t0.318721689295\n",
      "  (0, 6214)\t0.299537997237\n",
      "  (0, 5270)\t0.297299574059\n",
      "  (0, 4638)\t0.266198019061\n",
      "  (0, 4073)\t0.408325899334\n"
     ]
    }
   ],
   "source": [
    "from sklearn.feature_extraction.text import TfidfTransformer\n",
    "\n",
    "tfidf_transformer = TfidfTransformer().fit(messages_bow)\n",
    "tfidf4 = tfidf_transformer.transform(bow4)\n",
    "print(tfidf4)"
   ]
  },
  {
   "cell_type": "markdown",
   "metadata": {},
   "source": [
    "We'll go ahead and check what is the IDF (inverse document frequency) of the word `\"u\"` and of word `\"university\"`?"
   ]
  },
  {
   "cell_type": "code",
   "execution_count": 50,
   "metadata": {},
   "outputs": [
    {
     "name": "stdout",
     "output_type": "stream",
     "text": [
      "3.28005242674\n",
      "8.5270764989\n"
     ]
    }
   ],
   "source": [
    "print(tfidf_transformer.idf_[bow_transformer.vocabulary_['u']])\n",
    "print(tfidf_transformer.idf_[bow_transformer.vocabulary_['university']])"
   ]
  },
  {
   "cell_type": "markdown",
   "metadata": {},
   "source": [
    "To transform the entire bag-of-words corpus into TF-IDF corpus at once:"
   ]
  },
  {
   "cell_type": "code",
   "execution_count": 51,
   "metadata": {},
   "outputs": [
    {
     "name": "stdout",
     "output_type": "stream",
     "text": [
      "(5572, 11444)\n"
     ]
    }
   ],
   "source": [
    "messages_tfidf = tfidf_transformer.transform(messages_bow)\n",
    "print(messages_tfidf.shape)"
   ]
  },
  {
   "cell_type": "markdown",
   "metadata": {},
   "source": [
    "There are many ways the data can be preprocessed and vectorized. These steps involve feature engineering and building a \"pipeline\". I encourage you to check out SciKit Learn's documentation on dealing with text data as well as the expansive collection of available papers and books on the general topic of NLP."
   ]
  },
  {
   "cell_type": "markdown",
   "metadata": {},
   "source": [
    "## Training a model"
   ]
  },
  {
   "cell_type": "markdown",
   "metadata": {},
   "source": [
    "With messages represented as vectors, we can finally train our spam/ham classifier. Now we can actually use almost any sort of classification algorithms. For a [variety of reasons](http://www.inf.ed.ac.uk/teaching/courses/inf2b/learnnotes/inf2b-learn-note07-2up.pdf), the Naive Bayes classifier algorithm is a good choice."
   ]
  },
  {
   "cell_type": "markdown",
   "metadata": {},
   "source": [
    "We'll be using scikit-learn here, choosing the [Naive Bayes](http://en.wikipedia.org/wiki/Naive_Bayes_classifier) classifier to start with:"
   ]
  },
  {
   "cell_type": "code",
   "execution_count": 52,
   "metadata": {},
   "outputs": [],
   "source": [
    "from sklearn.naive_bayes import MultinomialNB\n",
    "spam_detect_model = MultinomialNB().fit(messages_tfidf, messages['label'])"
   ]
  },
  {
   "cell_type": "markdown",
   "metadata": {},
   "source": [
    "Let's try classifying our single random message and checking how we do:"
   ]
  },
  {
   "cell_type": "code",
   "execution_count": 54,
   "metadata": {},
   "outputs": [
    {
     "name": "stdout",
     "output_type": "stream",
     "text": [
      "predicted: ham\n",
      "expected: ham\n"
     ]
    }
   ],
   "source": [
    "print('predicted:', spam_detect_model.predict(tfidf4)[0])\n",
    "print('expected:', messages.label[3])"
   ]
  },
  {
   "cell_type": "markdown",
   "metadata": {},
   "source": [
    "Fantastic! We've developed a model that can attempt to predict spam vs ham classification!\n",
    "\n",
    "## Part 6: Model Evaluation\n",
    "Now we want to determine how well our model will do overall on the entire dataset. Let's begin by getting all the predictions:"
   ]
  },
  {
   "cell_type": "code",
   "execution_count": 55,
   "metadata": {},
   "outputs": [
    {
     "name": "stdout",
     "output_type": "stream",
     "text": [
      "['ham' 'ham' 'spam' ..., 'ham' 'ham' 'ham']\n"
     ]
    }
   ],
   "source": [
    "all_predictions = spam_detect_model.predict(messages_tfidf)\n",
    "print(all_predictions)"
   ]
  },
  {
   "cell_type": "markdown",
   "metadata": {},
   "source": [
    "We can use SciKit Learn's built-in classification report, which returns [precision, recall,](https://en.wikipedia.org/wiki/Precision_and_recall) [f1-score](https://en.wikipedia.org/wiki/F1_score), and a column for support (meaning how many cases supported that classification). Check out the links for more detailed info on each of these metrics and the figure below:"
   ]
  },
  {
   "cell_type": "markdown",
   "metadata": {},
   "source": [
    "<img src='https://upload.wikimedia.org/wikipedia/commons/thumb/2/26/Precisionrecall.svg/700px-Precisionrecall.svg.png' width=400 />"
   ]
  },
  {
   "cell_type": "code",
   "execution_count": 56,
   "metadata": {},
   "outputs": [
    {
     "name": "stdout",
     "output_type": "stream",
     "text": [
      "             precision    recall  f1-score   support\n",
      "\n",
      "        ham       0.98      1.00      0.99      4825\n",
      "       spam       1.00      0.85      0.92       747\n",
      "\n",
      "avg / total       0.98      0.98      0.98      5572\n",
      "\n"
     ]
    }
   ],
   "source": [
    "from sklearn.metrics import classification_report\n",
    "print (classification_report(messages['label'], all_predictions))"
   ]
  },
  {
   "cell_type": "markdown",
   "metadata": {},
   "source": [
    "There are quite a few possible metrics for evaluating model performance. Which one is the most important depends on the task and the business effects of decisions based off of the model. For example, the cost of mis-predicting \"spam\" as \"ham\" is probably much lower than mis-predicting \"ham\" as \"spam\"."
   ]
  },
  {
   "cell_type": "markdown",
   "metadata": {},
   "source": [
    "In the above \"evaluation\",we evaluated accuracy on the same data we used for training. **You should never actually evaluate on the same dataset you train on!**\n",
    "\n",
    "Such evaluation tells us nothing about the true predictive power of our model. If we simply remembered each example during training, the accuracy on training data would trivially be 100%, even though we wouldn't be able to classify any new messages.\n",
    "\n",
    "A proper way is to split the data into a training/test set, where the model only ever sees the **training data** during its model fitting and parameter tuning. The **test data** is never used in any way. This is then our final evaluation on test data is representative of true predictive performance.\n",
    "\n",
    "## Train Test Split"
   ]
  },
  {
   "cell_type": "code",
   "execution_count": 57,
   "metadata": {},
   "outputs": [
    {
     "name": "stdout",
     "output_type": "stream",
     "text": [
      "4457 1115 5572\n"
     ]
    }
   ],
   "source": [
    "from sklearn.model_selection import train_test_split\n",
    "\n",
    "msg_train, msg_test, label_train, label_test = \\\n",
    "train_test_split(messages['message'], messages['label'], test_size=0.2)\n",
    "\n",
    "print(len(msg_train), len(msg_test), len(msg_train) + len(msg_test))"
   ]
  },
  {
   "cell_type": "markdown",
   "metadata": {},
   "source": [
    "The test size is 20% of the entire dataset (1115 messages out of total 5572), and the training is the rest (4457 out of 5572). Note the default split would have been 30/70.\n",
    "\n",
    "## Creating a Data Pipeline\n",
    "\n",
    "Let's run our model again and then predict off the test set. We will use SciKit Learn's [pipeline](http://scikit-learn.org/stable/modules/pipeline.html) capabilities to store a pipeline of workflow. This will allow us to set up all the transformations that we will do to the data for future use. Let's see an example of how it works:"
   ]
  },
  {
   "cell_type": "code",
   "execution_count": 58,
   "metadata": {},
   "outputs": [],
   "source": [
    "from sklearn.pipeline import Pipeline\n",
    "\n",
    "pipeline = Pipeline([\n",
    "    ('bow', CountVectorizer(analyzer=text_process)),  # strings to token integer counts\n",
    "    ('tfidf', TfidfTransformer()),  # integer counts to weighted TF-IDF scores\n",
    "    ('classifier', MultinomialNB()),  # train on TF-IDF vectors w/ Naive Bayes classifier\n",
    "])"
   ]
  },
  {
   "cell_type": "markdown",
   "metadata": {},
   "source": [
    "Now we can directly pass message text data and the pipeline will do our pre-processing for us! We can treat it as a model/estimator API:"
   ]
  },
  {
   "cell_type": "code",
   "execution_count": 59,
   "metadata": {},
   "outputs": [
    {
     "data": {
      "text/plain": [
       "Pipeline(steps=[('bow', CountVectorizer(analyzer=<function text_process at 0x11e795bf8>, binary=False,\n",
       "        decode_error='strict', dtype=<class 'numpy.int64'>,\n",
       "        encoding='utf-8', input='content', lowercase=True, max_df=1.0,\n",
       "        max_features=None, min_df=1, ngram_range=(1, 1), preprocessor=None,...f=False, use_idf=True)), ('classifier', MultinomialNB(alpha=1.0, class_prior=None, fit_prior=True))])"
      ]
     },
     "execution_count": 59,
     "metadata": {},
     "output_type": "execute_result"
    }
   ],
   "source": [
    "pipeline.fit(msg_train,label_train)"
   ]
  },
  {
   "cell_type": "code",
   "execution_count": 60,
   "metadata": {},
   "outputs": [],
   "source": [
    "predictions = pipeline.predict(msg_test)"
   ]
  },
  {
   "cell_type": "code",
   "execution_count": 61,
   "metadata": {},
   "outputs": [
    {
     "name": "stdout",
     "output_type": "stream",
     "text": [
      "             precision    recall  f1-score   support\n",
      "\n",
      "        ham       1.00      0.96      0.98      1001\n",
      "       spam       0.75      1.00      0.85       114\n",
      "\n",
      "avg / total       0.97      0.97      0.97      1115\n",
      "\n"
     ]
    }
   ],
   "source": [
    "print(classification_report(predictions,label_test))"
   ]
  },
  {
   "cell_type": "markdown",
   "metadata": {},
   "source": [
    "Now we have a classification report for our model on a true testing set! There is a lot more to Natural Language Processing than what we've covered here, and its vast expanse of topic could fill up several college courses! I encourage you to check out the resources below for more information on NLP!"
   ]
  },
  {
   "cell_type": "markdown",
   "metadata": {},
   "source": [
    "## More Resources\n",
    "\n",
    "Check out the links below for more info on Natural Language Processing:\n",
    "\n",
    "[NLTK Book Online](http://www.nltk.org/book/)\n",
    "\n",
    "[Kaggle Walkthrough](https://www.kaggle.com/c/word2vec-nlp-tutorial/details/part-1-for-beginners-bag-of-words)\n",
    "\n",
    "[SciKit Learn's Tutorial](http://scikit-learn.org/stable/tutorial/text_analytics/working_with_text_data.html)"
   ]
  },
  {
   "cell_type": "markdown",
   "metadata": {},
   "source": [
    "# Good Job!"
   ]
  }
 ],
 "metadata": {
  "kernelspec": {
   "display_name": "Python 3 (ipykernel)",
   "language": "python",
   "name": "python3"
  },
  "language_info": {
   "codemirror_mode": {
    "name": "ipython",
    "version": 3
   },
   "file_extension": ".py",
   "mimetype": "text/x-python",
   "name": "python",
   "nbconvert_exporter": "python",
   "pygments_lexer": "ipython3",
   "version": "3.9.12"
  }
 },
 "nbformat": 4,
 "nbformat_minor": 1
}
